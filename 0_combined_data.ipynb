{
 "cells": [
  {
   "cell_type": "code",
   "execution_count": 1,
   "id": "5206714b",
   "metadata": {},
   "outputs": [
    {
     "name": "stdout",
     "output_type": "stream",
     "text": [
      "Ditemukan 17 file CSV. Memulai penggabungan...\n",
      "Berhasil membaca: kecelakaan.csv\n",
      "Berhasil membaca: mabuk.csv\n",
      "Berhasil membaca: knalpot.csv\n",
      "Berhasil membaca: tawuran.csv\n",
      "Berhasil membaca: mlm.csv\n",
      "Berhasil membaca: bobol.csv\n",
      "Berhasil membaca: gendam.csv\n",
      "Berhasil membaca: pembunuhan.csv\n",
      "Berhasil membaca: begal.csv\n",
      "Berhasil membaca: curi.csv\n",
      "Berhasil membaca: nabrak.csv\n",
      "Berhasil membaca: kobam.csv\n",
      "Berhasil membaca: mabok.csv\n",
      "Berhasil membaca: mayat.csv\n",
      "Berhasil membaca: klitih.csv\n",
      "Berhasil membaca: begal_payudara.csv\n",
      "Berhasil membaca: bcs.csv\n",
      "\n",
      "Data berhasil digabungkan dan disimpan di /Users/rhd/Documents/Raihan/Learning/Data/machine_learning/NLP/data/diy/sample_data_1.xlsx\n",
      "Total baris: 7744\n",
      "Total kolom: 15\n"
     ]
    }
   ],
   "source": [
    "import pandas as pd\n",
    "import os\n",
    "import glob\n",
    "\n",
    "# Tentukan path folder tempat file CSV berada\n",
    "folder_path = \"/Users/rhd/Documents/Raihan/Learning/Data/machine_learning/NLP/data/diy/tweets-data\"\n",
    "\n",
    "# Cari semua file CSV\n",
    "csv_files = glob.glob(os.path.join(folder_path, \"*.csv\"))\n",
    "\n",
    "# Cek berapa file CSV yang ditemukan\n",
    "print(f\"Ditemukan {len(csv_files)} file CSV. Memulai penggabungan...\")\n",
    "\n",
    "# Inisialisasi list untuk menyimpan DataFrame\n",
    "all_data = []\n",
    "\n",
    "# Loop melalui setiap file CSV\n",
    "for file in csv_files:\n",
    "    try:\n",
    "        # Baca file CSV dan tambahkan ke list\n",
    "        df = pd.read_csv(file)\n",
    "        all_data.append(df)\n",
    "        print(f\"Berhasil membaca: {os.path.basename(file)}\")\n",
    "    except Exception as e:\n",
    "        print(f\"Error membaca {os.path.basename(file)}: {str(e)}\")\n",
    "\n",
    "# Gabungkan semua DataFrame menjadi satu\n",
    "if all_data:\n",
    "    combined_df = pd.concat(all_data, ignore_index=True)\n",
    "\n",
    "    # Simpan hasil ke file Excel baru\n",
    "    output_path = \"/Users/rhd/Documents/Raihan/Learning/Data/machine_learning/NLP/data/diy/sample_data_1.xlsx\"\n",
    "    combined_df.to_excel(output_path, index=False)\n",
    "\n",
    "    print(f\"\\nData berhasil digabungkan dan disimpan di {output_path}\")\n",
    "    print(f\"Total baris: {len(combined_df)}\")\n",
    "    print(f\"Total kolom: {len(combined_df.columns)}\")\n",
    "else:\n",
    "    print(\"Tidak ada data yang berhasil dibaca. Periksa file CSV kamu.\")"
   ]
  },
  {
   "cell_type": "code",
   "execution_count": null,
   "id": "a47896d2",
   "metadata": {},
   "outputs": [],
   "source": []
  }
 ],
 "metadata": {
  "kernelspec": {
   "display_name": ".venv",
   "language": "python",
   "name": "python3"
  },
  "language_info": {
   "codemirror_mode": {
    "name": "ipython",
    "version": 3
   },
   "file_extension": ".py",
   "mimetype": "text/x-python",
   "name": "python",
   "nbconvert_exporter": "python",
   "pygments_lexer": "ipython3",
   "version": "3.12.6"
  }
 },
 "nbformat": 4,
 "nbformat_minor": 5
}
