{
 "cells": [
  {
   "cell_type": "markdown",
   "id": "c24a8994",
   "metadata": {},
   "source": [
    "# Read Dataset"
   ]
  },
  {
   "cell_type": "code",
   "execution_count": 1,
   "id": "3522c6b7",
   "metadata": {},
   "outputs": [
    {
     "data": {
      "text/html": [
       "<div>\n",
       "<style scoped>\n",
       "    .dataframe tbody tr th:only-of-type {\n",
       "        vertical-align: middle;\n",
       "    }\n",
       "\n",
       "    .dataframe tbody tr th {\n",
       "        vertical-align: top;\n",
       "    }\n",
       "\n",
       "    .dataframe thead th {\n",
       "        text-align: right;\n",
       "    }\n",
       "</style>\n",
       "<table border=\"1\" class=\"dataframe\">\n",
       "  <thead>\n",
       "    <tr style=\"text-align: right;\">\n",
       "      <th></th>\n",
       "      <th>conversation_id_str</th>\n",
       "      <th>created_at</th>\n",
       "      <th>favorite_count</th>\n",
       "      <th>full_text</th>\n",
       "      <th>id_str</th>\n",
       "      <th>image_url</th>\n",
       "      <th>in_reply_to_screen_name</th>\n",
       "      <th>lang</th>\n",
       "      <th>location</th>\n",
       "      <th>quote_count</th>\n",
       "      <th>reply_count</th>\n",
       "      <th>retweet_count</th>\n",
       "      <th>tweet_url</th>\n",
       "      <th>user_id_str</th>\n",
       "      <th>username</th>\n",
       "    </tr>\n",
       "  </thead>\n",
       "  <tbody>\n",
       "    <tr>\n",
       "      <th>0</th>\n",
       "      <td>1924499205722084096</td>\n",
       "      <td>Mon May 19 16:15:40 +0000 2025</td>\n",
       "      <td>0</td>\n",
       "      <td>Palang Pintu Pelintasan Terbuka Saat KA Maliob...</td>\n",
       "      <td>1924499205722084096</td>\n",
       "      <td>https://pbs.twimg.com/media/GrUx1A-XIAAwSH_.jpg</td>\n",
       "      <td>NaN</td>\n",
       "      <td>in</td>\n",
       "      <td>NaN</td>\n",
       "      <td>0</td>\n",
       "      <td>0</td>\n",
       "      <td>0</td>\n",
       "      <td>https://x.com/undefined/status/192449920572208...</td>\n",
       "      <td>118371948</td>\n",
       "      <td>NaN</td>\n",
       "    </tr>\n",
       "    <tr>\n",
       "      <th>1</th>\n",
       "      <td>1924455275739693056</td>\n",
       "      <td>Mon May 19 13:21:07 +0000 2025</td>\n",
       "      <td>6</td>\n",
       "      <td>ASN Pemkab Magetan Jadi Korban Meninggal Kecel...</td>\n",
       "      <td>1924455275739693056</td>\n",
       "      <td>https://pbs.twimg.com/media/GrUJ3-rWoAA0y4T.jpg</td>\n",
       "      <td>NaN</td>\n",
       "      <td>in</td>\n",
       "      <td>NaN</td>\n",
       "      <td>1</td>\n",
       "      <td>0</td>\n",
       "      <td>0</td>\n",
       "      <td>https://x.com/undefined/status/192445527573969...</td>\n",
       "      <td>118371948</td>\n",
       "      <td>NaN</td>\n",
       "    </tr>\n",
       "    <tr>\n",
       "      <th>2</th>\n",
       "      <td>1924350383109165056</td>\n",
       "      <td>Mon May 19 12:19:00 +0000 2025</td>\n",
       "      <td>0</td>\n",
       "      <td>@regar_op0sisi Harusnya di panggilin damkar in...</td>\n",
       "      <td>1924439646890820096</td>\n",
       "      <td>NaN</td>\n",
       "      <td>regar_op0sisi</td>\n",
       "      <td>in</td>\n",
       "      <td>NaN</td>\n",
       "      <td>0</td>\n",
       "      <td>0</td>\n",
       "      <td>0</td>\n",
       "      <td>https://x.com/undefined/status/192443964689082...</td>\n",
       "      <td>280381391</td>\n",
       "      <td>NaN</td>\n",
       "    </tr>\n",
       "    <tr>\n",
       "      <th>3</th>\n",
       "      <td>1924388809271034112</td>\n",
       "      <td>Mon May 19 08:57:00 +0000 2025</td>\n",
       "      <td>1</td>\n",
       "      <td>Kronologi Kecelakaan Kereta di Magetan Palang ...</td>\n",
       "      <td>1924388809271034112</td>\n",
       "      <td>https://pbs.twimg.com/media/GrTNbIsW0AA_PCC.jpg</td>\n",
       "      <td>NaN</td>\n",
       "      <td>in</td>\n",
       "      <td>NaN</td>\n",
       "      <td>0</td>\n",
       "      <td>0</td>\n",
       "      <td>0</td>\n",
       "      <td>https://x.com/undefined/status/192438880927103...</td>\n",
       "      <td>118371948</td>\n",
       "      <td>NaN</td>\n",
       "    </tr>\n",
       "    <tr>\n",
       "      <th>4</th>\n",
       "      <td>1924384204156026880</td>\n",
       "      <td>Mon May 19 08:38:42 +0000 2025</td>\n",
       "      <td>1</td>\n",
       "      <td>Kecelakaan KA Malioboro Ekspres di Magetan Tew...</td>\n",
       "      <td>1924384204156026880</td>\n",
       "      <td>https://pbs.twimg.com/media/GrTJPAyW0AAZg7J.jpg</td>\n",
       "      <td>NaN</td>\n",
       "      <td>in</td>\n",
       "      <td>NaN</td>\n",
       "      <td>0</td>\n",
       "      <td>0</td>\n",
       "      <td>0</td>\n",
       "      <td>https://x.com/undefined/status/192438420415602...</td>\n",
       "      <td>118371948</td>\n",
       "      <td>NaN</td>\n",
       "    </tr>\n",
       "  </tbody>\n",
       "</table>\n",
       "</div>"
      ],
      "text/plain": [
       "   conversation_id_str                      created_at  favorite_count  \\\n",
       "0  1924499205722084096  Mon May 19 16:15:40 +0000 2025               0   \n",
       "1  1924455275739693056  Mon May 19 13:21:07 +0000 2025               6   \n",
       "2  1924350383109165056  Mon May 19 12:19:00 +0000 2025               0   \n",
       "3  1924388809271034112  Mon May 19 08:57:00 +0000 2025               1   \n",
       "4  1924384204156026880  Mon May 19 08:38:42 +0000 2025               1   \n",
       "\n",
       "                                           full_text               id_str  \\\n",
       "0  Palang Pintu Pelintasan Terbuka Saat KA Maliob...  1924499205722084096   \n",
       "1  ASN Pemkab Magetan Jadi Korban Meninggal Kecel...  1924455275739693056   \n",
       "2  @regar_op0sisi Harusnya di panggilin damkar in...  1924439646890820096   \n",
       "3  Kronologi Kecelakaan Kereta di Magetan Palang ...  1924388809271034112   \n",
       "4  Kecelakaan KA Malioboro Ekspres di Magetan Tew...  1924384204156026880   \n",
       "\n",
       "                                         image_url in_reply_to_screen_name  \\\n",
       "0  https://pbs.twimg.com/media/GrUx1A-XIAAwSH_.jpg                     NaN   \n",
       "1  https://pbs.twimg.com/media/GrUJ3-rWoAA0y4T.jpg                     NaN   \n",
       "2                                              NaN           regar_op0sisi   \n",
       "3  https://pbs.twimg.com/media/GrTNbIsW0AA_PCC.jpg                     NaN   \n",
       "4  https://pbs.twimg.com/media/GrTJPAyW0AAZg7J.jpg                     NaN   \n",
       "\n",
       "  lang  location  quote_count  reply_count  retweet_count  \\\n",
       "0   in       NaN            0            0              0   \n",
       "1   in       NaN            1            0              0   \n",
       "2   in       NaN            0            0              0   \n",
       "3   in       NaN            0            0              0   \n",
       "4   in       NaN            0            0              0   \n",
       "\n",
       "                                           tweet_url  user_id_str  username  \n",
       "0  https://x.com/undefined/status/192449920572208...    118371948       NaN  \n",
       "1  https://x.com/undefined/status/192445527573969...    118371948       NaN  \n",
       "2  https://x.com/undefined/status/192443964689082...    280381391       NaN  \n",
       "3  https://x.com/undefined/status/192438880927103...    118371948       NaN  \n",
       "4  https://x.com/undefined/status/192438420415602...    118371948       NaN  "
      ]
     },
     "execution_count": 1,
     "metadata": {},
     "output_type": "execute_result"
    }
   ],
   "source": [
    "import pandas as pd\n",
    "\n",
    "data = pd.read_excel(\"data/diy/sample_data_1.xlsx\")\n",
    "data.head()"
   ]
  },
  {
   "cell_type": "code",
   "execution_count": 2,
   "id": "183baebc",
   "metadata": {},
   "outputs": [],
   "source": [
    "# Contoh: styling kolom agar wrap\n",
    "def display_fullscreen_wrap(df):\n",
    "    return df.style.set_properties(\n",
    "        **{\n",
    "            \"white-space\": \"pre-wrap\",  # wrap isi cell\n",
    "            \"word-break\": \"break-word\",  # pecah di mana saja kalau kepanjangan\n",
    "            \"width\": \"900px\",  # bisa diganti sesuai kebutuhan\n",
    "            \"max-width\": \"700px\",  # atur lebar kolom maksimal\n",
    "        }\n",
    "    )"
   ]
  },
  {
   "cell_type": "markdown",
   "id": "9ab7b6b8",
   "metadata": {},
   "source": [
    "# EDA"
   ]
  },
  {
   "cell_type": "code",
   "execution_count": 3,
   "id": "b0b50e20",
   "metadata": {},
   "outputs": [
    {
     "data": {
      "text/plain": [
       "Index(['conversation_id_str', 'created_at', 'favorite_count', 'full_text',\n",
       "       'id_str', 'image_url', 'in_reply_to_screen_name', 'lang', 'location',\n",
       "       'quote_count', 'reply_count', 'retweet_count', 'tweet_url',\n",
       "       'user_id_str', 'username'],\n",
       "      dtype='object')"
      ]
     },
     "execution_count": 3,
     "metadata": {},
     "output_type": "execute_result"
    }
   ],
   "source": [
    "data.columns"
   ]
  },
  {
   "cell_type": "markdown",
   "id": "600cbcd2",
   "metadata": {},
   "source": [
    "### Summary"
   ]
  },
  {
   "cell_type": "code",
   "execution_count": 4,
   "id": "ce28678b",
   "metadata": {},
   "outputs": [
    {
     "name": "stdout",
     "output_type": "stream",
     "text": [
      "<class 'pandas.core.frame.DataFrame'>\n",
      "RangeIndex: 7744 entries, 0 to 7743\n",
      "Data columns (total 15 columns):\n",
      " #   Column                   Non-Null Count  Dtype  \n",
      "---  ------                   --------------  -----  \n",
      " 0   conversation_id_str      7744 non-null   int64  \n",
      " 1   created_at               7744 non-null   object \n",
      " 2   favorite_count           7744 non-null   int64  \n",
      " 3   full_text                7744 non-null   object \n",
      " 4   id_str                   7744 non-null   int64  \n",
      " 5   image_url                1567 non-null   object \n",
      " 6   in_reply_to_screen_name  3735 non-null   object \n",
      " 7   lang                     7744 non-null   object \n",
      " 8   location                 0 non-null      float64\n",
      " 9   quote_count              7744 non-null   int64  \n",
      " 10  reply_count              7744 non-null   int64  \n",
      " 11  retweet_count            7744 non-null   int64  \n",
      " 12  tweet_url                7744 non-null   object \n",
      " 13  user_id_str              7744 non-null   int64  \n",
      " 14  username                 0 non-null      float64\n",
      "dtypes: float64(2), int64(7), object(6)\n",
      "memory usage: 907.6+ KB\n",
      "Summary : None\n"
     ]
    }
   ],
   "source": [
    "info = data.info()\n",
    "print(\"Summary :\", info)"
   ]
  },
  {
   "cell_type": "markdown",
   "id": "0c132796",
   "metadata": {},
   "source": [
    "### Find Missing Values"
   ]
  },
  {
   "cell_type": "code",
   "execution_count": 5,
   "id": "313c1ec2",
   "metadata": {},
   "outputs": [
    {
     "name": "stdout",
     "output_type": "stream",
     "text": [
      "Jumlah missing values disetiap kolom:\n",
      " conversation_id_str           0\n",
      "created_at                    0\n",
      "favorite_count                0\n",
      "full_text                     0\n",
      "id_str                        0\n",
      "image_url                  6177\n",
      "in_reply_to_screen_name    4009\n",
      "lang                          0\n",
      "location                   7744\n",
      "quote_count                   0\n",
      "reply_count                   0\n",
      "retweet_count                 0\n",
      "tweet_url                     0\n",
      "user_id_str                   0\n",
      "username                   7744\n",
      "dtype: int64\n"
     ]
    }
   ],
   "source": [
    "# menghitung dan menampilkan missing values\n",
    "print(\"Jumlah missing values disetiap kolom:\\n\", data.isnull().sum())"
   ]
  },
  {
   "cell_type": "markdown",
   "id": "ad6c8811",
   "metadata": {},
   "source": [
    "### Delete unnecessary columns and does not provide any information"
   ]
  },
  {
   "cell_type": "code",
   "execution_count": 6,
   "id": "15c7391e",
   "metadata": {},
   "outputs": [
    {
     "data": {
      "text/html": [
       "<div>\n",
       "<style scoped>\n",
       "    .dataframe tbody tr th:only-of-type {\n",
       "        vertical-align: middle;\n",
       "    }\n",
       "\n",
       "    .dataframe tbody tr th {\n",
       "        vertical-align: top;\n",
       "    }\n",
       "\n",
       "    .dataframe thead th {\n",
       "        text-align: right;\n",
       "    }\n",
       "</style>\n",
       "<table border=\"1\" class=\"dataframe\">\n",
       "  <thead>\n",
       "    <tr style=\"text-align: right;\">\n",
       "      <th></th>\n",
       "      <th>full_text</th>\n",
       "    </tr>\n",
       "  </thead>\n",
       "  <tbody>\n",
       "    <tr>\n",
       "      <th>0</th>\n",
       "      <td>Palang Pintu Pelintasan Terbuka Saat KA Maliob...</td>\n",
       "    </tr>\n",
       "    <tr>\n",
       "      <th>1</th>\n",
       "      <td>ASN Pemkab Magetan Jadi Korban Meninggal Kecel...</td>\n",
       "    </tr>\n",
       "    <tr>\n",
       "      <th>2</th>\n",
       "      <td>@regar_op0sisi Harusnya di panggilin damkar in...</td>\n",
       "    </tr>\n",
       "    <tr>\n",
       "      <th>3</th>\n",
       "      <td>Kronologi Kecelakaan Kereta di Magetan Palang ...</td>\n",
       "    </tr>\n",
       "    <tr>\n",
       "      <th>4</th>\n",
       "      <td>Kecelakaan KA Malioboro Ekspres di Magetan Tew...</td>\n",
       "    </tr>\n",
       "  </tbody>\n",
       "</table>\n",
       "</div>"
      ],
      "text/plain": [
       "                                           full_text\n",
       "0  Palang Pintu Pelintasan Terbuka Saat KA Maliob...\n",
       "1  ASN Pemkab Magetan Jadi Korban Meninggal Kecel...\n",
       "2  @regar_op0sisi Harusnya di panggilin damkar in...\n",
       "3  Kronologi Kecelakaan Kereta di Magetan Palang ...\n",
       "4  Kecelakaan KA Malioboro Ekspres di Magetan Tew..."
      ]
     },
     "execution_count": 6,
     "metadata": {},
     "output_type": "execute_result"
    }
   ],
   "source": [
    "data = data[[\"full_text\"]]\n",
    "data.head()"
   ]
  },
  {
   "cell_type": "markdown",
   "id": "f3325fc7",
   "metadata": {},
   "source": [
    "### Check Duplicate Data that contain in the content column"
   ]
  },
  {
   "cell_type": "code",
   "execution_count": 7,
   "id": "6706c032",
   "metadata": {},
   "outputs": [
    {
     "data": {
      "text/plain": [
       "np.int64(838)"
      ]
     },
     "execution_count": 7,
     "metadata": {},
     "output_type": "execute_result"
    }
   ],
   "source": [
    "data.duplicated().sum()"
   ]
  },
  {
   "cell_type": "markdown",
   "id": "7c7b1888",
   "metadata": {},
   "source": [
    "# Data Preparation"
   ]
  },
  {
   "cell_type": "markdown",
   "id": "6bb6c124",
   "metadata": {},
   "source": [
    "### Case Folding"
   ]
  },
  {
   "cell_type": "code",
   "execution_count": 8,
   "id": "90fa2f90",
   "metadata": {},
   "outputs": [
    {
     "data": {
      "text/html": [
       "<div>\n",
       "<style scoped>\n",
       "    .dataframe tbody tr th:only-of-type {\n",
       "        vertical-align: middle;\n",
       "    }\n",
       "\n",
       "    .dataframe tbody tr th {\n",
       "        vertical-align: top;\n",
       "    }\n",
       "\n",
       "    .dataframe thead th {\n",
       "        text-align: right;\n",
       "    }\n",
       "</style>\n",
       "<table border=\"1\" class=\"dataframe\">\n",
       "  <thead>\n",
       "    <tr style=\"text-align: right;\">\n",
       "      <th></th>\n",
       "      <th>full_text</th>\n",
       "    </tr>\n",
       "  </thead>\n",
       "  <tbody>\n",
       "    <tr>\n",
       "      <th>0</th>\n",
       "      <td>palang pintu pelintasan terbuka saat ka maliob...</td>\n",
       "    </tr>\n",
       "    <tr>\n",
       "      <th>1</th>\n",
       "      <td>asn pemkab magetan jadi korban meninggal kecel...</td>\n",
       "    </tr>\n",
       "    <tr>\n",
       "      <th>2</th>\n",
       "      <td>@regar_op0sisi harusnya di panggilin damkar in...</td>\n",
       "    </tr>\n",
       "    <tr>\n",
       "      <th>3</th>\n",
       "      <td>kronologi kecelakaan kereta di magetan palang ...</td>\n",
       "    </tr>\n",
       "    <tr>\n",
       "      <th>4</th>\n",
       "      <td>kecelakaan ka malioboro ekspres di magetan tew...</td>\n",
       "    </tr>\n",
       "  </tbody>\n",
       "</table>\n",
       "</div>"
      ],
      "text/plain": [
       "                                           full_text\n",
       "0  palang pintu pelintasan terbuka saat ka maliob...\n",
       "1  asn pemkab magetan jadi korban meninggal kecel...\n",
       "2  @regar_op0sisi harusnya di panggilin damkar in...\n",
       "3  kronologi kecelakaan kereta di magetan palang ...\n",
       "4  kecelakaan ka malioboro ekspres di magetan tew..."
      ]
     },
     "execution_count": 8,
     "metadata": {},
     "output_type": "execute_result"
    }
   ],
   "source": [
    "# merubah jenis huruf menjadi huruf kecil\n",
    "data[\"full_text\"] = data[\"full_text\"].str.lower()\n",
    "data.head()"
   ]
  },
  {
   "cell_type": "markdown",
   "id": "ffe18c8f",
   "metadata": {},
   "source": [
    "## Cleaning Data"
   ]
  },
  {
   "cell_type": "markdown",
   "id": "0851b214",
   "metadata": {},
   "source": [
    "### Emoji To Word"
   ]
  },
  {
   "cell_type": "code",
   "execution_count": 9,
   "id": "8f6e68f6",
   "metadata": {},
   "outputs": [
    {
     "data": {
      "text/html": [
       "<style type=\"text/css\">\n",
       "#T_6ca7f_row0_col0, #T_6ca7f_row1_col0, #T_6ca7f_row2_col0, #T_6ca7f_row3_col0, #T_6ca7f_row4_col0 {\n",
       "  white-space: pre-wrap;\n",
       "  word-break: break-word;\n",
       "  width: 900px;\n",
       "  max-width: 700px;\n",
       "}\n",
       "</style>\n",
       "<table id=\"T_6ca7f\">\n",
       "  <thead>\n",
       "    <tr>\n",
       "      <th class=\"blank level0\" >&nbsp;</th>\n",
       "      <th id=\"T_6ca7f_level0_col0\" class=\"col_heading level0 col0\" >full_text</th>\n",
       "    </tr>\n",
       "  </thead>\n",
       "  <tbody>\n",
       "    <tr>\n",
       "      <th id=\"T_6ca7f_level0_row0\" class=\"row_heading level0 row0\" >0</th>\n",
       "      <td id=\"T_6ca7f_row0_col0\" class=\"data row0 col0\" >palang pintu pelintasan terbuka saat ka malioboro ekspres melintas kecelakaan pun tak bisa dihindari https://t.co/2rau13j0cp https://t.co/ouql7ahsug</td>\n",
       "    </tr>\n",
       "    <tr>\n",
       "      <th id=\"T_6ca7f_level0_row1\" class=\"row_heading level0 row1\" >1</th>\n",
       "      <td id=\"T_6ca7f_row1_col0\" class=\"data row1 col0\" >asn pemkab magetan jadi korban meninggal kecelakaan ka malioboro ekspres https://t.co/hin963viyt https://t.co/b7bvzvythg</td>\n",
       "    </tr>\n",
       "    <tr>\n",
       "      <th id=\"T_6ca7f_level0_row2\" class=\"row_heading level0 row2\" >2</th>\n",
       "      <td id=\"T_6ca7f_row2_col0\" class=\"data row2 col0\" >@regar_op0sisi harusnya di panggilin damkar ini.. gercep langsung ke lokasi mengamankan kecelakaan</td>\n",
       "    </tr>\n",
       "    <tr>\n",
       "      <th id=\"T_6ca7f_level0_row3\" class=\"row_heading level0 row3\" >3</th>\n",
       "      <td id=\"T_6ca7f_row3_col0\" class=\"data row3 col0\" >kronologi kecelakaan kereta di magetan palang pintu diduga terbuka saat ka malioboro ekspres melintas https://t.co/f3sgxfpbfv https://t.co/7cog3mw3q2</td>\n",
       "    </tr>\n",
       "    <tr>\n",
       "      <th id=\"T_6ca7f_level0_row4\" class=\"row_heading level0 row4\" >4</th>\n",
       "      <td id=\"T_6ca7f_row4_col0\" class=\"data row4 col0\" >kecelakaan ka malioboro ekspres di magetan tewaskan 4 orang ini kronologinya https://t.co/azsah90363 https://t.co/cgjchkd0tu</td>\n",
       "    </tr>\n",
       "  </tbody>\n",
       "</table>\n"
      ],
      "text/plain": [
       "<pandas.io.formats.style.Styler at 0x1f92541f6d0>"
      ]
     },
     "execution_count": 9,
     "metadata": {},
     "output_type": "execute_result"
    }
   ],
   "source": [
    "import pandas as pd\n",
    "from indoNLP.preprocessing import (\n",
    "    pipeline,\n",
    "    replace_word_elongation,\n",
    "    replace_slang,\n",
    "    remove_html,\n",
    "    remove_url,\n",
    "    emoji_to_words\n",
    ")\n",
    "# Apply emoji_to_words to the text column\n",
    "data[\"full_text\"] = data[\"full_text\"].apply(lambda x: emoji_to_words(str(x), lang=\"id\"))\n",
    "display_fullscreen_wrap(data.head())"
   ]
  },
  {
   "cell_type": "markdown",
   "id": "589d6973",
   "metadata": {},
   "source": [
    "### Remove HTML"
   ]
  },
  {
   "cell_type": "code",
   "execution_count": 10,
   "id": "0b30fe38",
   "metadata": {},
   "outputs": [],
   "source": [
    "# data[\"full_text\"] = data[\"full_text\"].apply(lambda x: remove_html(str(x)))\n",
    "# display_fullscreen_wrap(data.head())"
   ]
  },
  {
   "cell_type": "markdown",
   "id": "839180c9",
   "metadata": {},
   "source": [
    "### Remove URL"
   ]
  },
  {
   "cell_type": "code",
   "execution_count": 11,
   "id": "3de13ad8",
   "metadata": {},
   "outputs": [],
   "source": [
    "# data[\"full_text\"] = data[\"full_text\"].apply(lambda x: remove_url(str(x)))\n",
    "# display_fullscreen_wrap(data.head())"
   ]
  },
  {
   "cell_type": "markdown",
   "id": "9a6824d2",
   "metadata": {},
   "source": [
    "### Replace Slang"
   ]
  },
  {
   "cell_type": "code",
   "execution_count": 12,
   "id": "b88eb8cb",
   "metadata": {},
   "outputs": [],
   "source": [
    "# data[\"full_text\"] = data[\"full_text\"].apply(lambda x: replace_slang(str(x)))\n",
    "# display_fullscreen_wrap(data.head())"
   ]
  },
  {
   "cell_type": "markdown",
   "id": "2da0b117",
   "metadata": {},
   "source": [
    "### Replace Word Elongation"
   ]
  },
  {
   "cell_type": "code",
   "execution_count": 13,
   "id": "f7f898e4",
   "metadata": {},
   "outputs": [
    {
     "data": {
      "text/html": [
       "<style type=\"text/css\">\n",
       "#T_8c014_row0_col0, #T_8c014_row1_col0, #T_8c014_row2_col0, #T_8c014_row3_col0, #T_8c014_row4_col0 {\n",
       "  white-space: pre-wrap;\n",
       "  word-break: break-word;\n",
       "  width: 900px;\n",
       "  max-width: 700px;\n",
       "}\n",
       "</style>\n",
       "<table id=\"T_8c014\">\n",
       "  <thead>\n",
       "    <tr>\n",
       "      <th class=\"blank level0\" >&nbsp;</th>\n",
       "      <th id=\"T_8c014_level0_col0\" class=\"col_heading level0 col0\" >full_text</th>\n",
       "    </tr>\n",
       "  </thead>\n",
       "  <tbody>\n",
       "    <tr>\n",
       "      <th id=\"T_8c014_level0_row0\" class=\"row_heading level0 row0\" >0</th>\n",
       "      <td id=\"T_8c014_row0_col0\" class=\"data row0 col0\" >palang pintu pelintasan terbuka saat ka malioboro ekspres melintas kecelakaan pun tak bisa dihindari https://t.co/2rau13j0cp https://t.co/ouql7ahsug</td>\n",
       "    </tr>\n",
       "    <tr>\n",
       "      <th id=\"T_8c014_level0_row1\" class=\"row_heading level0 row1\" >1</th>\n",
       "      <td id=\"T_8c014_row1_col0\" class=\"data row1 col0\" >asn pemkab magetan jadi korban meninggal kecelakaan ka malioboro ekspres https://t.co/hin963viyt https://t.co/b7bvzvythg</td>\n",
       "    </tr>\n",
       "    <tr>\n",
       "      <th id=\"T_8c014_level0_row2\" class=\"row_heading level0 row2\" >2</th>\n",
       "      <td id=\"T_8c014_row2_col0\" class=\"data row2 col0\" >@regar_op0sisi harusnya di panggilin damkar ini.. gercep langsung ke lokasi mengamankan kecelakaan</td>\n",
       "    </tr>\n",
       "    <tr>\n",
       "      <th id=\"T_8c014_level0_row3\" class=\"row_heading level0 row3\" >3</th>\n",
       "      <td id=\"T_8c014_row3_col0\" class=\"data row3 col0\" >kronologi kecelakaan kereta di magetan palang pintu diduga terbuka saat ka malioboro ekspres melintas https://t.co/f3sgxfpbfv https://t.co/7cog3mw3q2</td>\n",
       "    </tr>\n",
       "    <tr>\n",
       "      <th id=\"T_8c014_level0_row4\" class=\"row_heading level0 row4\" >4</th>\n",
       "      <td id=\"T_8c014_row4_col0\" class=\"data row4 col0\" >kecelakaan ka malioboro ekspres di magetan tewaskan 4 orang ini kronologinya https://t.co/azsah90363 https://t.co/cgjchkd0tu</td>\n",
       "    </tr>\n",
       "  </tbody>\n",
       "</table>\n"
      ],
      "text/plain": [
       "<pandas.io.formats.style.Styler at 0x1f9359eb510>"
      ]
     },
     "execution_count": 13,
     "metadata": {},
     "output_type": "execute_result"
    }
   ],
   "source": [
    "data[\"full_text\"] = data[\"full_text\"].apply(lambda x: replace_word_elongation(str(x)))\n",
    "display_fullscreen_wrap(data.head())"
   ]
  },
  {
   "cell_type": "markdown",
   "id": "423bfe8e",
   "metadata": {},
   "source": [
    "### Replace User Mentions"
   ]
  },
  {
   "cell_type": "code",
   "execution_count": 14,
   "id": "53adbb45",
   "metadata": {},
   "outputs": [
    {
     "data": {
      "text/html": [
       "<style type=\"text/css\">\n",
       "#T_e7f16_row0_col0, #T_e7f16_row1_col0, #T_e7f16_row2_col0, #T_e7f16_row3_col0, #T_e7f16_row4_col0 {\n",
       "  white-space: pre-wrap;\n",
       "  word-break: break-word;\n",
       "  width: 900px;\n",
       "  max-width: 700px;\n",
       "}\n",
       "</style>\n",
       "<table id=\"T_e7f16\">\n",
       "  <thead>\n",
       "    <tr>\n",
       "      <th class=\"blank level0\" >&nbsp;</th>\n",
       "      <th id=\"T_e7f16_level0_col0\" class=\"col_heading level0 col0\" >full_text</th>\n",
       "    </tr>\n",
       "  </thead>\n",
       "  <tbody>\n",
       "    <tr>\n",
       "      <th id=\"T_e7f16_level0_row0\" class=\"row_heading level0 row0\" >0</th>\n",
       "      <td id=\"T_e7f16_row0_col0\" class=\"data row0 col0\" >palang pintu pelintasan terbuka saat ka malioboro ekspres melintas kecelakaan pun tak bisa dihindari HTTPURL HTTPURL</td>\n",
       "    </tr>\n",
       "    <tr>\n",
       "      <th id=\"T_e7f16_level0_row1\" class=\"row_heading level0 row1\" >1</th>\n",
       "      <td id=\"T_e7f16_row1_col0\" class=\"data row1 col0\" >asn pemkab magetan jadi korban meninggal kecelakaan ka malioboro ekspres HTTPURL HTTPURL</td>\n",
       "    </tr>\n",
       "    <tr>\n",
       "      <th id=\"T_e7f16_level0_row2\" class=\"row_heading level0 row2\" >2</th>\n",
       "      <td id=\"T_e7f16_row2_col0\" class=\"data row2 col0\" >@USER harusnya di panggilin damkar ini.. gercep langsung ke lokasi mengamankan kecelakaan</td>\n",
       "    </tr>\n",
       "    <tr>\n",
       "      <th id=\"T_e7f16_level0_row3\" class=\"row_heading level0 row3\" >3</th>\n",
       "      <td id=\"T_e7f16_row3_col0\" class=\"data row3 col0\" >kronologi kecelakaan kereta di magetan palang pintu diduga terbuka saat ka malioboro ekspres melintas HTTPURL HTTPURL</td>\n",
       "    </tr>\n",
       "    <tr>\n",
       "      <th id=\"T_e7f16_level0_row4\" class=\"row_heading level0 row4\" >4</th>\n",
       "      <td id=\"T_e7f16_row4_col0\" class=\"data row4 col0\" >kecelakaan ka malioboro ekspres di magetan tewaskan 4 orang ini kronologinya HTTPURL HTTPURL</td>\n",
       "    </tr>\n",
       "  </tbody>\n",
       "</table>\n"
      ],
      "text/plain": [
       "<pandas.io.formats.style.Styler at 0x1f936278750>"
      ]
     },
     "execution_count": 14,
     "metadata": {},
     "output_type": "execute_result"
    }
   ],
   "source": [
    "import re\n",
    "\n",
    "# Function to replace URLs and user mentions\n",
    "def replace_urls_and_mentions(text):\n",
    "    # Replace URLs with HTTPURL\n",
    "    text = re.sub(\n",
    "        r\"http[s]?://(?:[a-zA-Z]|[0-9]|[$-_@.&+]|[!*\\\\(\\\\),]|(?:%[0-9a-fA-F][0-9a-fA-F]))+\",\n",
    "        \"HTTPURL\",\n",
    "        text,\n",
    "    )\n",
    "    text = re.sub(\n",
    "        r\"www\\.(?:[a-zA-Z]|[0-9]|[$-_@.&+]|[!*\\\\(\\\\),]|(?:%[0-9a-fA-F][0-9a-fA-F]))+\",\n",
    "        \"HTTPURL\",\n",
    "        text,\n",
    "    )\n",
    "\n",
    "    # Replace user mentions with @USER\n",
    "    text = re.sub(r\"@[A-Za-z0-9_]+\", \"@USER\", text)\n",
    "\n",
    "    return text\n",
    "\n",
    "# Apply URL and mention replacement\n",
    "data[\"full_text\"] = data[\"full_text\"].apply(lambda x: replace_urls_and_mentions(str(x)))\n",
    "display_fullscreen_wrap(data.head())"
   ]
  },
  {
   "cell_type": "code",
   "execution_count": 15,
   "id": "624c10ee",
   "metadata": {},
   "outputs": [
    {
     "name": "stdout",
     "output_type": "stream",
     "text": [
      "Test classification result:\n",
      "{\n",
      "  \"is_hate_speech\": false,\n",
      "  \"target_type\": \"none\",\n",
      "  \"confidence\": \"high\",\n",
      "  \"reasoning\": \"Teks tidak mengandung kata-kata atau kalimat yang menunjukkan kebencian atau diskriminasi terhadap individu atau kelompok tertentu.\"\n",
      "}\n"
     ]
    }
   ],
   "source": [
    "# Add this as a new cell after your data preprocessing\n",
    "\n",
    "import requests\n",
    "import json\n",
    "import time\n",
    "from tqdm import tqdm\n",
    "\n",
    "\n",
    "def classify_hate_speech_with_ollama(text, model=\"llama3.1:8b\"):\n",
    "    \"\"\"\n",
    "    Classify text for hate speech using Ollama Llama3\n",
    "    Returns: dict with 'is_hate_speech', 'target_type', 'confidence', 'reasoning'\n",
    "    \"\"\"\n",
    "\n",
    "    prompt = f\"\"\"\n",
    "Analisis teks berikut untuk menentukan apakah mengandung hate speech (ucapan kebencian) atau tidak.\n",
    "\n",
    "Hate Speech adalah tindakan komunikasi berupa provokasi, hasutan, atau hinaan kepada individu/kelompok berdasarkan ras, warna kulit, etnis, gender, cacat, orientasi seksual, kewarganegaraan, agama, dan lain-lain.\n",
    "\n",
    "Teks: \"{text}\"\n",
    "\n",
    "Berikan analisis dalam format JSON:\n",
    "{{\n",
    "    \"is_hate_speech\": true/false,\n",
    "    \"target_type\": \"individual/group/none\",\n",
    "    \"confidence\": \"high/medium/low\",\n",
    "    \"reasoning\": \"penjelasan singkat mengapa diklasifikasikan demikian\"\n",
    "}}\n",
    "\n",
    "Jawab hanya dengan JSON, tanpa penjelasan tambahan.\n",
    "\"\"\"\n",
    "\n",
    "    try:\n",
    "        response = requests.post(\n",
    "            \"http://localhost:11434/api/generate\",\n",
    "            json={\n",
    "                \"model\": model,\n",
    "                \"prompt\": prompt,\n",
    "                \"stream\": False,\n",
    "                \"options\": {\n",
    "                    \"temperature\": 0.1,  # Low temperature for consistent results\n",
    "                    \"top_p\": 0.9,\n",
    "                },\n",
    "            },\n",
    "            timeout=60,\n",
    "        )\n",
    "\n",
    "        if response.status_code == 200:\n",
    "            result = response.json()\n",
    "            generated_text = result[\"response\"].strip()\n",
    "\n",
    "            # Try to parse JSON from the response\n",
    "            try:\n",
    "                # Extract JSON from response (sometimes there might be extra text)\n",
    "                import re\n",
    "\n",
    "                json_match = re.search(r\"\\{.*\\}\", generated_text, re.DOTALL)\n",
    "                if json_match:\n",
    "                    json_str = json_match.group()\n",
    "                    classification = json.loads(json_str)\n",
    "                    return classification\n",
    "                else:\n",
    "                    return {\n",
    "                        \"is_hate_speech\": False,\n",
    "                        \"target_type\": \"none\",\n",
    "                        \"confidence\": \"low\",\n",
    "                        \"reasoning\": \"Failed to parse response\",\n",
    "                    }\n",
    "            except json.JSONDecodeError:\n",
    "                return {\n",
    "                    \"is_hate_speech\": False,\n",
    "                    \"target_type\": \"none\",\n",
    "                    \"confidence\": \"low\",\n",
    "                    \"reasoning\": \"Invalid JSON response\",\n",
    "                }\n",
    "        else:\n",
    "            return {\n",
    "                \"is_hate_speech\": False,\n",
    "                \"target_type\": \"none\",\n",
    "                \"confidence\": \"low\",\n",
    "                \"reasoning\": f\"API error: {response.status_code}\",\n",
    "            }\n",
    "\n",
    "    except Exception as e:\n",
    "        return {\n",
    "            \"is_hate_speech\": False,\n",
    "            \"target_type\": \"none\",\n",
    "            \"confidence\": \"low\",\n",
    "            \"reasoning\": f\"Error: {str(e)}\",\n",
    "        }\n",
    "\n",
    "\n",
    "# Test the function with a sample text first\n",
    "sample_text = data[\"full_text\"].iloc[0] if len(data) > 0 else \"Test text\"\n",
    "test_result = classify_hate_speech_with_ollama(sample_text)\n",
    "print(\"Test classification result:\")\n",
    "print(json.dumps(test_result, indent=2, ensure_ascii=False))"
   ]
  },
  {
   "cell_type": "code",
   "execution_count": 16,
   "id": "575ebb7d",
   "metadata": {},
   "outputs": [
    {
     "name": "stdout",
     "output_type": "stream",
     "text": [
      "Starting hate speech classification...\n",
      "Note: This will take some time depending on your data size\n",
      "Processing 5 texts...\n"
     ]
    },
    {
     "name": "stderr",
     "output_type": "stream",
     "text": [
      "100%|██████████| 1/1 [00:17<00:00, 17.86s/it]"
     ]
    },
    {
     "name": "stdout",
     "output_type": "stream",
     "text": [
      "\n",
      "Classification Results:\n"
     ]
    },
    {
     "name": "stderr",
     "output_type": "stream",
     "text": [
      "\n"
     ]
    },
    {
     "data": {
      "text/html": [
       "<style type=\"text/css\">\n",
       "#T_34fb6_row0_col0, #T_34fb6_row0_col1, #T_34fb6_row0_col2, #T_34fb6_row0_col3, #T_34fb6_row1_col0, #T_34fb6_row1_col1, #T_34fb6_row1_col2, #T_34fb6_row1_col3, #T_34fb6_row2_col0, #T_34fb6_row2_col1, #T_34fb6_row2_col2, #T_34fb6_row2_col3, #T_34fb6_row3_col0, #T_34fb6_row3_col1, #T_34fb6_row3_col2, #T_34fb6_row3_col3, #T_34fb6_row4_col0, #T_34fb6_row4_col1, #T_34fb6_row4_col2, #T_34fb6_row4_col3 {\n",
       "  white-space: pre-wrap;\n",
       "  word-break: break-word;\n",
       "  width: 900px;\n",
       "  max-width: 700px;\n",
       "}\n",
       "</style>\n",
       "<table id=\"T_34fb6\">\n",
       "  <thead>\n",
       "    <tr>\n",
       "      <th class=\"blank level0\" >&nbsp;</th>\n",
       "      <th id=\"T_34fb6_level0_col0\" class=\"col_heading level0 col0\" >full_text</th>\n",
       "      <th id=\"T_34fb6_level0_col1\" class=\"col_heading level0 col1\" >hs_label</th>\n",
       "      <th id=\"T_34fb6_level0_col2\" class=\"col_heading level0 col2\" >hs_target_type</th>\n",
       "      <th id=\"T_34fb6_level0_col3\" class=\"col_heading level0 col3\" >hs_confidence</th>\n",
       "    </tr>\n",
       "  </thead>\n",
       "  <tbody>\n",
       "    <tr>\n",
       "      <th id=\"T_34fb6_level0_row0\" class=\"row_heading level0 row0\" >0</th>\n",
       "      <td id=\"T_34fb6_row0_col0\" class=\"data row0 col0\" >palang pintu pelintasan terbuka saat ka malioboro ekspres melintas kecelakaan pun tak bisa dihindari HTTPURL HTTPURL</td>\n",
       "      <td id=\"T_34fb6_row0_col1\" class=\"data row0 col1\" >False</td>\n",
       "      <td id=\"T_34fb6_row0_col2\" class=\"data row0 col2\" >none</td>\n",
       "      <td id=\"T_34fb6_row0_col3\" class=\"data row0 col3\" >high</td>\n",
       "    </tr>\n",
       "    <tr>\n",
       "      <th id=\"T_34fb6_level0_row1\" class=\"row_heading level0 row1\" >1</th>\n",
       "      <td id=\"T_34fb6_row1_col0\" class=\"data row1 col0\" >asn pemkab magetan jadi korban meninggal kecelakaan ka malioboro ekspres HTTPURL HTTPURL</td>\n",
       "      <td id=\"T_34fb6_row1_col1\" class=\"data row1 col1\" >False</td>\n",
       "      <td id=\"T_34fb6_row1_col2\" class=\"data row1 col2\" >none</td>\n",
       "      <td id=\"T_34fb6_row1_col3\" class=\"data row1 col3\" >high</td>\n",
       "    </tr>\n",
       "    <tr>\n",
       "      <th id=\"T_34fb6_level0_row2\" class=\"row_heading level0 row2\" >2</th>\n",
       "      <td id=\"T_34fb6_row2_col0\" class=\"data row2 col0\" >@USER harusnya di panggilin damkar ini.. gercep langsung ke lokasi mengamankan kecelakaan</td>\n",
       "      <td id=\"T_34fb6_row2_col1\" class=\"data row2 col1\" >False</td>\n",
       "      <td id=\"T_34fb6_row2_col2\" class=\"data row2 col2\" >individual</td>\n",
       "      <td id=\"T_34fb6_row2_col3\" class=\"data row2 col3\" >high</td>\n",
       "    </tr>\n",
       "    <tr>\n",
       "      <th id=\"T_34fb6_level0_row3\" class=\"row_heading level0 row3\" >3</th>\n",
       "      <td id=\"T_34fb6_row3_col0\" class=\"data row3 col0\" >kronologi kecelakaan kereta di magetan palang pintu diduga terbuka saat ka malioboro ekspres melintas HTTPURL HTTPURL</td>\n",
       "      <td id=\"T_34fb6_row3_col1\" class=\"data row3 col1\" >False</td>\n",
       "      <td id=\"T_34fb6_row3_col2\" class=\"data row3 col2\" >none</td>\n",
       "      <td id=\"T_34fb6_row3_col3\" class=\"data row3 col3\" >high</td>\n",
       "    </tr>\n",
       "    <tr>\n",
       "      <th id=\"T_34fb6_level0_row4\" class=\"row_heading level0 row4\" >4</th>\n",
       "      <td id=\"T_34fb6_row4_col0\" class=\"data row4 col0\" >kecelakaan ka malioboro ekspres di magetan tewaskan 4 orang ini kronologinya HTTPURL HTTPURL</td>\n",
       "      <td id=\"T_34fb6_row4_col1\" class=\"data row4 col1\" >False</td>\n",
       "      <td id=\"T_34fb6_row4_col2\" class=\"data row4 col2\" >none</td>\n",
       "      <td id=\"T_34fb6_row4_col3\" class=\"data row4 col3\" >high</td>\n",
       "    </tr>\n",
       "  </tbody>\n",
       "</table>\n"
      ],
      "text/plain": [
       "<pandas.io.formats.style.Styler at 0x1f936617590>"
      ]
     },
     "execution_count": 16,
     "metadata": {},
     "output_type": "execute_result"
    }
   ],
   "source": [
    "# Add this as another new cell to process all data\n",
    "\n",
    "\n",
    "def process_hate_speech_classification(df, batch_size=10):\n",
    "    \"\"\"\n",
    "    Process all texts in the dataframe for hate speech classification\n",
    "    \"\"\"\n",
    "    results = []\n",
    "\n",
    "    print(f\"Processing {len(df)} texts...\")\n",
    "\n",
    "    for i in tqdm(range(0, len(df), batch_size)):\n",
    "        batch = df.iloc[i : i + batch_size]\n",
    "\n",
    "        for idx, row in batch.iterrows():\n",
    "            text = str(row[\"full_text\"])\n",
    "\n",
    "            # Skip very short texts\n",
    "            if len(text.strip()) < 10:\n",
    "                result = {\n",
    "                    \"is_hate_speech\": False,\n",
    "                    \"target_type\": \"none\",\n",
    "                    \"confidence\": \"low\",\n",
    "                    \"reasoning\": \"Text too short\",\n",
    "                }\n",
    "            else:\n",
    "                result = classify_hate_speech_with_ollama(text)\n",
    "\n",
    "            results.append(result)\n",
    "\n",
    "            # Small delay to avoid overwhelming the API\n",
    "            time.sleep(0.5)\n",
    "\n",
    "    return results\n",
    "\n",
    "\n",
    "# Process the classification (start with a small subset for testing)\n",
    "print(\"Starting hate speech classification...\")\n",
    "print(\"Note: This will take some time depending on your data size\")\n",
    "\n",
    "# Test with first 5 rows first\n",
    "test_data = data.head(5).copy()\n",
    "classifications = process_hate_speech_classification(test_data)\n",
    "\n",
    "# Add results to dataframe\n",
    "test_data[\"hs_label\"] = [result[\"is_hate_speech\"] for result in classifications]\n",
    "test_data[\"hs_target_type\"] = [result[\"target_type\"] for result in classifications]\n",
    "test_data[\"hs_confidence\"] = [result[\"confidence\"] for result in classifications]\n",
    "test_data[\"hs_reasoning\"] = [result[\"reasoning\"] for result in classifications]\n",
    "\n",
    "# Display results\n",
    "print(\"\\nClassification Results:\")\n",
    "display_fullscreen_wrap(\n",
    "    test_data[[\"full_text\", \"hs_label\", \"hs_target_type\", \"hs_confidence\"]]\n",
    ")"
   ]
  },
  {
   "cell_type": "code",
   "execution_count": null,
   "id": "87fc999a",
   "metadata": {},
   "outputs": [
    {
     "name": "stdout",
     "output_type": "stream",
     "text": [
      "Processing all data...\n",
      "Processing 7744 texts...\n"
     ]
    },
    {
     "name": "stderr",
     "output_type": "stream",
     "text": [
      "  0%|          | 2/775 [01:10<7:37:28, 35.51s/it]"
     ]
    }
   ],
   "source": [
    "# Add this cell to process all data (after testing)\n",
    "\n",
    "# After testing with small subset, process all data\n",
    "print(\"Processing all data...\")\n",
    "all_classifications = process_hate_speech_classification(data)\n",
    "\n",
    "# Add all results to main dataframe\n",
    "data[\"hs_label\"] = [result[\"is_hate_speech\"] for result in all_classifications]\n",
    "data[\"hs_target_type\"] = [result[\"target_type\"] for result in all_classifications]\n",
    "data[\"hs_confidence\"] = [result[\"confidence\"] for result in all_classifications]\n",
    "data[\"hs_reasoning\"] = [result[\"reasoning\"] for result in all_classifications]\n",
    "\n",
    "# Show summary statistics\n",
    "print(\"\\nHate Speech Classification Summary:\")\n",
    "print(f\"Total texts: {len(data)}\")\n",
    "print(f\"Hate Speech detected: {data['hs_label'].sum()}\")\n",
    "print(f\"Non-Hate Speech: {(~data['hs_label']).sum()}\")\n",
    "print(f\"Percentage Hate Speech: {(data['hs_label'].sum() / len(data) * 100):.2f}%\")\n",
    "\n",
    "print(\"\\nTarget Type Distribution:\")\n",
    "print(data[\"hs_target_type\"].value_counts())\n",
    "\n",
    "print(\"\\nConfidence Distribution:\")\n",
    "print(data[\"hs_confidence\"].value_counts())"
   ]
  },
  {
   "cell_type": "code",
   "execution_count": null,
   "id": "6d2174e2",
   "metadata": {},
   "outputs": [],
   "source": [
    "# Add this cell for analysis and saving results\n",
    "\n",
    "# Show some examples of detected hate speech\n",
    "print(\"Examples of detected Hate Speech:\")\n",
    "hate_speech_examples = data[data[\"hs_label\"] == True].head(10)\n",
    "for idx, row in hate_speech_examples.iterrows():\n",
    "    print(f\"\\nText: {row['full_text'][:200]}...\")\n",
    "    print(f\"Target: {row['hs_target_type']}\")\n",
    "    print(f\"Confidence: {row['hs_confidence']}\")\n",
    "    print(f\"Reasoning: {row['hs_reasoning']}\")\n",
    "    print(\"-\" * 50)\n",
    "\n",
    "# Save the labeled data\n",
    "data.to_excel(\"data/diy/labeled_hate_speech_data.xlsx\", index=False)\n",
    "print(f\"\\nLabeled data saved to: data/diy/labeled_hate_speech_data.xlsx\")\n",
    "\n",
    "# Create a summary report\n",
    "summary = {\n",
    "    \"total_texts\": len(data),\n",
    "    \"hate_speech_count\": int(data[\"hs_label\"].sum()),\n",
    "    \"individual_targets\": int((data[\"hs_target_type\"] == \"individual\").sum()),\n",
    "    \"group_targets\": int((data[\"hs_target_type\"] == \"group\").sum()),\n",
    "    \"high_confidence\": int((data[\"hs_confidence\"] == \"high\").sum()),\n",
    "    \"medium_confidence\": int((data[\"hs_confidence\"] == \"medium\").sum()),\n",
    "    \"low_confidence\": int((data[\"hs_confidence\"] == \"low\").sum()),\n",
    "}\n",
    "\n",
    "with open(\"data/diy/hate_speech_summary.json\", \"w\", encoding=\"utf-8\") as f:\n",
    "    json.dump(summary, f, indent=2, ensure_ascii=False)\n",
    "\n",
    "print(f\"Summary report saved to: data/diy/hate_speech_summary.json\")"
   ]
  },
  {
   "cell_type": "code",
   "execution_count": null,
   "id": "206033a8",
   "metadata": {},
   "outputs": [],
   "source": []
  }
 ],
 "metadata": {
  "kernelspec": {
   "display_name": ".venv",
   "language": "python",
   "name": "python3"
  },
  "language_info": {
   "codemirror_mode": {
    "name": "ipython",
    "version": 3
   },
   "file_extension": ".py",
   "mimetype": "text/x-python",
   "name": "python",
   "nbconvert_exporter": "python",
   "pygments_lexer": "ipython3",
   "version": "3.11.9"
  }
 },
 "nbformat": 4,
 "nbformat_minor": 5
}
