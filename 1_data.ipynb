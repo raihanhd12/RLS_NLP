{
 "cells": [
  {
   "cell_type": "markdown",
   "id": "c24a8994",
   "metadata": {},
   "source": [
    "# Read Dataset"
   ]
  },
  {
   "cell_type": "code",
   "execution_count": 1,
   "id": "3522c6b7",
   "metadata": {},
   "outputs": [
    {
     "data": {
      "text/html": [
       "<div>\n",
       "<style scoped>\n",
       "    .dataframe tbody tr th:only-of-type {\n",
       "        vertical-align: middle;\n",
       "    }\n",
       "\n",
       "    .dataframe tbody tr th {\n",
       "        vertical-align: top;\n",
       "    }\n",
       "\n",
       "    .dataframe thead th {\n",
       "        text-align: right;\n",
       "    }\n",
       "</style>\n",
       "<table border=\"1\" class=\"dataframe\">\n",
       "  <thead>\n",
       "    <tr style=\"text-align: right;\">\n",
       "      <th></th>\n",
       "      <th>id</th>\n",
       "      <th>date</th>\n",
       "      <th>username</th>\n",
       "      <th>content</th>\n",
       "    </tr>\n",
       "  </thead>\n",
       "  <tbody>\n",
       "    <tr>\n",
       "      <th>0</th>\n",
       "      <td>1929092282449371145</td>\n",
       "      <td>Sun Jun 01 2025 15:26:55 GMT+0700 (Western Ind...</td>\n",
       "      <td>txtfromjogja</td>\n",
       "      <td>Sudah biasaaa https://t.co/EEEQ0s9baL</td>\n",
       "    </tr>\n",
       "    <tr>\n",
       "      <th>1</th>\n",
       "      <td>1928993917166399801</td>\n",
       "      <td>Sun Jun 01 2025 08:56:03 GMT+0700 (Western Ind...</td>\n",
       "      <td>txtfromjogja</td>\n",
       "      <td>Iki yo mbulett ae 👀 https://t.co/T1hBxB07S7</td>\n",
       "    </tr>\n",
       "    <tr>\n",
       "      <th>2</th>\n",
       "      <td>1928744695951196511</td>\n",
       "      <td>Sat May 31 2025 16:25:44 GMT+0700 (Western Ind...</td>\n",
       "      <td>txtfromjogja</td>\n",
       "      <td>👎👎 https://t.co/QQci5hKbFT</td>\n",
       "    </tr>\n",
       "    <tr>\n",
       "      <th>3</th>\n",
       "      <td>1928667158675951668</td>\n",
       "      <td>Sat May 31 2025 11:17:38 GMT+0700 (Western Ind...</td>\n",
       "      <td>txtfromjogja</td>\n",
       "      <td>Zeremmmmm https://t.co/vGu6eLLZv6</td>\n",
       "    </tr>\n",
       "    <tr>\n",
       "      <th>4</th>\n",
       "      <td>1928667161624519081</td>\n",
       "      <td>Sat May 31 2025 11:17:38 GMT+0700 (Western Ind...</td>\n",
       "      <td>txtfromjogja</td>\n",
       "      <td>https://t.co/iLhtTQRj1D</td>\n",
       "    </tr>\n",
       "  </tbody>\n",
       "</table>\n",
       "</div>"
      ],
      "text/plain": [
       "                    id                                               date  \\\n",
       "0  1929092282449371145  Sun Jun 01 2025 15:26:55 GMT+0700 (Western Ind...   \n",
       "1  1928993917166399801  Sun Jun 01 2025 08:56:03 GMT+0700 (Western Ind...   \n",
       "2  1928744695951196511  Sat May 31 2025 16:25:44 GMT+0700 (Western Ind...   \n",
       "3  1928667158675951668  Sat May 31 2025 11:17:38 GMT+0700 (Western Ind...   \n",
       "4  1928667161624519081  Sat May 31 2025 11:17:38 GMT+0700 (Western Ind...   \n",
       "\n",
       "       username                                      content  \n",
       "0  txtfromjogja        Sudah biasaaa https://t.co/EEEQ0s9baL  \n",
       "1  txtfromjogja  Iki yo mbulett ae 👀 https://t.co/T1hBxB07S7  \n",
       "2  txtfromjogja                   👎👎 https://t.co/QQci5hKbFT  \n",
       "3  txtfromjogja            Zeremmmmm https://t.co/vGu6eLLZv6  \n",
       "4  txtfromjogja                      https://t.co/iLhtTQRj1D  "
      ]
     },
     "execution_count": 1,
     "metadata": {},
     "output_type": "execute_result"
    }
   ],
   "source": [
    "import pandas as pd\n",
    "\n",
    "data = pd.read_csv(\"data/diy/sample_data_2.csv\")\n",
    "data.head()"
   ]
  },
  {
   "cell_type": "code",
   "execution_count": 2,
   "id": "183baebc",
   "metadata": {},
   "outputs": [],
   "source": [
    "# Contoh: styling kolom agar wrap\n",
    "def display_fullscreen_wrap(df):\n",
    "    return df.style.set_properties(\n",
    "        **{\n",
    "            \"white-space\": \"pre-wrap\",  # wrap isi cell\n",
    "            \"word-break\": \"break-word\",  # pecah di mana saja kalau kepanjangan\n",
    "            \"width\": \"900px\",  # bisa diganti sesuai kebutuhan\n",
    "            \"max-width\": \"700px\",  # atur lebar kolom maksimal\n",
    "        }\n",
    "    )"
   ]
  },
  {
   "cell_type": "markdown",
   "id": "9ab7b6b8",
   "metadata": {},
   "source": [
    "# EDA"
   ]
  },
  {
   "cell_type": "code",
   "execution_count": 3,
   "id": "b0b50e20",
   "metadata": {},
   "outputs": [
    {
     "data": {
      "text/plain": [
       "Index(['id', 'date', 'username', 'content'], dtype='object')"
      ]
     },
     "execution_count": 3,
     "metadata": {},
     "output_type": "execute_result"
    }
   ],
   "source": [
    "data.columns"
   ]
  },
  {
   "cell_type": "markdown",
   "id": "600cbcd2",
   "metadata": {},
   "source": [
    "### Summary"
   ]
  },
  {
   "cell_type": "code",
   "execution_count": 4,
   "id": "ce28678b",
   "metadata": {},
   "outputs": [
    {
     "name": "stdout",
     "output_type": "stream",
     "text": [
      "<class 'pandas.core.frame.DataFrame'>\n",
      "RangeIndex: 27536 entries, 0 to 27535\n",
      "Data columns (total 4 columns):\n",
      " #   Column    Non-Null Count  Dtype \n",
      "---  ------    --------------  ----- \n",
      " 0   id        27536 non-null  int64 \n",
      " 1   date      27536 non-null  object\n",
      " 2   username  27536 non-null  object\n",
      " 3   content   27536 non-null  object\n",
      "dtypes: int64(1), object(3)\n",
      "memory usage: 860.6+ KB\n",
      "Summary : None\n"
     ]
    }
   ],
   "source": [
    "info = data.info()\n",
    "print(\"Summary :\", info)"
   ]
  },
  {
   "cell_type": "markdown",
   "id": "0c132796",
   "metadata": {},
   "source": [
    "### Find Missing Values"
   ]
  },
  {
   "cell_type": "code",
   "execution_count": 5,
   "id": "313c1ec2",
   "metadata": {},
   "outputs": [
    {
     "name": "stdout",
     "output_type": "stream",
     "text": [
      "Jumlah missing values disetiap kolom:\n",
      " id          0\n",
      "date        0\n",
      "username    0\n",
      "content     0\n",
      "dtype: int64\n"
     ]
    }
   ],
   "source": [
    "# menghitung dan menampilkan missing values\n",
    "print(\"Jumlah missing values disetiap kolom:\\n\", data.isnull().sum())"
   ]
  },
  {
   "cell_type": "markdown",
   "id": "ad6c8811",
   "metadata": {},
   "source": [
    "### Delete unnecessary columns and does not provide any information"
   ]
  },
  {
   "cell_type": "code",
   "execution_count": 6,
   "id": "15c7391e",
   "metadata": {},
   "outputs": [
    {
     "data": {
      "text/html": [
       "<div>\n",
       "<style scoped>\n",
       "    .dataframe tbody tr th:only-of-type {\n",
       "        vertical-align: middle;\n",
       "    }\n",
       "\n",
       "    .dataframe tbody tr th {\n",
       "        vertical-align: top;\n",
       "    }\n",
       "\n",
       "    .dataframe thead th {\n",
       "        text-align: right;\n",
       "    }\n",
       "</style>\n",
       "<table border=\"1\" class=\"dataframe\">\n",
       "  <thead>\n",
       "    <tr style=\"text-align: right;\">\n",
       "      <th></th>\n",
       "      <th>content</th>\n",
       "    </tr>\n",
       "  </thead>\n",
       "  <tbody>\n",
       "    <tr>\n",
       "      <th>0</th>\n",
       "      <td>Sudah biasaaa https://t.co/EEEQ0s9baL</td>\n",
       "    </tr>\n",
       "    <tr>\n",
       "      <th>1</th>\n",
       "      <td>Iki yo mbulett ae 👀 https://t.co/T1hBxB07S7</td>\n",
       "    </tr>\n",
       "    <tr>\n",
       "      <th>2</th>\n",
       "      <td>👎👎 https://t.co/QQci5hKbFT</td>\n",
       "    </tr>\n",
       "    <tr>\n",
       "      <th>3</th>\n",
       "      <td>Zeremmmmm https://t.co/vGu6eLLZv6</td>\n",
       "    </tr>\n",
       "    <tr>\n",
       "      <th>4</th>\n",
       "      <td>https://t.co/iLhtTQRj1D</td>\n",
       "    </tr>\n",
       "  </tbody>\n",
       "</table>\n",
       "</div>"
      ],
      "text/plain": [
       "                                       content\n",
       "0        Sudah biasaaa https://t.co/EEEQ0s9baL\n",
       "1  Iki yo mbulett ae 👀 https://t.co/T1hBxB07S7\n",
       "2                   👎👎 https://t.co/QQci5hKbFT\n",
       "3            Zeremmmmm https://t.co/vGu6eLLZv6\n",
       "4                      https://t.co/iLhtTQRj1D"
      ]
     },
     "execution_count": 6,
     "metadata": {},
     "output_type": "execute_result"
    }
   ],
   "source": [
    "data = data[[\"content\"]]\n",
    "data.head()"
   ]
  },
  {
   "cell_type": "markdown",
   "id": "7c7b1888",
   "metadata": {},
   "source": [
    "# Data Preparation"
   ]
  },
  {
   "cell_type": "markdown",
   "id": "6bb6c124",
   "metadata": {},
   "source": [
    "### Case Folding"
   ]
  },
  {
   "cell_type": "code",
   "execution_count": 7,
   "id": "90fa2f90",
   "metadata": {},
   "outputs": [
    {
     "data": {
      "text/html": [
       "<div>\n",
       "<style scoped>\n",
       "    .dataframe tbody tr th:only-of-type {\n",
       "        vertical-align: middle;\n",
       "    }\n",
       "\n",
       "    .dataframe tbody tr th {\n",
       "        vertical-align: top;\n",
       "    }\n",
       "\n",
       "    .dataframe thead th {\n",
       "        text-align: right;\n",
       "    }\n",
       "</style>\n",
       "<table border=\"1\" class=\"dataframe\">\n",
       "  <thead>\n",
       "    <tr style=\"text-align: right;\">\n",
       "      <th></th>\n",
       "      <th>content</th>\n",
       "    </tr>\n",
       "  </thead>\n",
       "  <tbody>\n",
       "    <tr>\n",
       "      <th>0</th>\n",
       "      <td>sudah biasaaa https://t.co/eeeq0s9bal</td>\n",
       "    </tr>\n",
       "    <tr>\n",
       "      <th>1</th>\n",
       "      <td>iki yo mbulett ae 👀 https://t.co/t1hbxb07s7</td>\n",
       "    </tr>\n",
       "    <tr>\n",
       "      <th>2</th>\n",
       "      <td>👎👎 https://t.co/qqci5hkbft</td>\n",
       "    </tr>\n",
       "    <tr>\n",
       "      <th>3</th>\n",
       "      <td>zeremmmmm https://t.co/vgu6ellzv6</td>\n",
       "    </tr>\n",
       "    <tr>\n",
       "      <th>4</th>\n",
       "      <td>https://t.co/ilhttqrj1d</td>\n",
       "    </tr>\n",
       "  </tbody>\n",
       "</table>\n",
       "</div>"
      ],
      "text/plain": [
       "                                       content\n",
       "0        sudah biasaaa https://t.co/eeeq0s9bal\n",
       "1  iki yo mbulett ae 👀 https://t.co/t1hbxb07s7\n",
       "2                   👎👎 https://t.co/qqci5hkbft\n",
       "3            zeremmmmm https://t.co/vgu6ellzv6\n",
       "4                      https://t.co/ilhttqrj1d"
      ]
     },
     "execution_count": 7,
     "metadata": {},
     "output_type": "execute_result"
    }
   ],
   "source": [
    "# merubah jenis huruf menjadi huruf kecil\n",
    "data[\"content\"] = data[\"content\"].str.lower()\n",
    "data.head()"
   ]
  },
  {
   "cell_type": "markdown",
   "id": "ffe18c8f",
   "metadata": {},
   "source": [
    "## Cleaning Data"
   ]
  },
  {
   "cell_type": "markdown",
   "id": "0851b214",
   "metadata": {},
   "source": [
    "### Emoji To Word"
   ]
  },
  {
   "cell_type": "code",
   "execution_count": 8,
   "id": "8f6e68f6",
   "metadata": {},
   "outputs": [
    {
     "data": {
      "text/html": [
       "<style type=\"text/css\">\n",
       "#T_b2945_row0_col0, #T_b2945_row1_col0, #T_b2945_row2_col0, #T_b2945_row3_col0, #T_b2945_row4_col0 {\n",
       "  white-space: pre-wrap;\n",
       "  word-break: break-word;\n",
       "  width: 900px;\n",
       "  max-width: 700px;\n",
       "}\n",
       "</style>\n",
       "<table id=\"T_b2945\">\n",
       "  <thead>\n",
       "    <tr>\n",
       "      <th class=\"blank level0\" >&nbsp;</th>\n",
       "      <th id=\"T_b2945_level0_col0\" class=\"col_heading level0 col0\" >content</th>\n",
       "    </tr>\n",
       "  </thead>\n",
       "  <tbody>\n",
       "    <tr>\n",
       "      <th id=\"T_b2945_level0_row0\" class=\"row_heading level0 row0\" >0</th>\n",
       "      <td id=\"T_b2945_row0_col0\" class=\"data row0 col0\" >sudah biasaaa https://t.co/eeeq0s9bal</td>\n",
       "    </tr>\n",
       "    <tr>\n",
       "      <th id=\"T_b2945_level0_row1\" class=\"row_heading level0 row1\" >1</th>\n",
       "      <td id=\"T_b2945_row1_col0\" class=\"data row1 col0\" >iki yo mbulett ae !dua_mata! https://t.co/t1hbxb07s7</td>\n",
       "    </tr>\n",
       "    <tr>\n",
       "      <th id=\"T_b2945_level0_row2\" class=\"row_heading level0 row2\" >2</th>\n",
       "      <td id=\"T_b2945_row2_col0\" class=\"data row2 col0\" >!jempol_ke_bawah!!jempol_ke_bawah! https://t.co/qqci5hkbft</td>\n",
       "    </tr>\n",
       "    <tr>\n",
       "      <th id=\"T_b2945_level0_row3\" class=\"row_heading level0 row3\" >3</th>\n",
       "      <td id=\"T_b2945_row3_col0\" class=\"data row3 col0\" >zeremmmmm https://t.co/vgu6ellzv6</td>\n",
       "    </tr>\n",
       "    <tr>\n",
       "      <th id=\"T_b2945_level0_row4\" class=\"row_heading level0 row4\" >4</th>\n",
       "      <td id=\"T_b2945_row4_col0\" class=\"data row4 col0\" >https://t.co/ilhttqrj1d</td>\n",
       "    </tr>\n",
       "  </tbody>\n",
       "</table>\n"
      ],
      "text/plain": [
       "<pandas.io.formats.style.Styler at 0x116953230>"
      ]
     },
     "execution_count": 8,
     "metadata": {},
     "output_type": "execute_result"
    }
   ],
   "source": [
    "import pandas as pd\n",
    "from indoNLP.preprocessing import (\n",
    "    pipeline,\n",
    "    replace_word_elongation,\n",
    "    replace_slang,\n",
    "    remove_html,\n",
    "    remove_url,\n",
    "    emoji_to_words\n",
    ")\n",
    "# Apply emoji_to_words to the text column\n",
    "data[\"content\"] = data[\"content\"].apply(lambda x: emoji_to_words(str(x), lang=\"id\"))\n",
    "display_fullscreen_wrap(data.head())"
   ]
  },
  {
   "cell_type": "markdown",
   "id": "589d6973",
   "metadata": {},
   "source": [
    "### Remove HTML"
   ]
  },
  {
   "cell_type": "code",
   "execution_count": 9,
   "id": "0b30fe38",
   "metadata": {},
   "outputs": [
    {
     "data": {
      "text/html": [
       "<style type=\"text/css\">\n",
       "#T_004de_row0_col0, #T_004de_row1_col0, #T_004de_row2_col0, #T_004de_row3_col0, #T_004de_row4_col0 {\n",
       "  white-space: pre-wrap;\n",
       "  word-break: break-word;\n",
       "  width: 900px;\n",
       "  max-width: 700px;\n",
       "}\n",
       "</style>\n",
       "<table id=\"T_004de\">\n",
       "  <thead>\n",
       "    <tr>\n",
       "      <th class=\"blank level0\" >&nbsp;</th>\n",
       "      <th id=\"T_004de_level0_col0\" class=\"col_heading level0 col0\" >content</th>\n",
       "    </tr>\n",
       "  </thead>\n",
       "  <tbody>\n",
       "    <tr>\n",
       "      <th id=\"T_004de_level0_row0\" class=\"row_heading level0 row0\" >0</th>\n",
       "      <td id=\"T_004de_row0_col0\" class=\"data row0 col0\" >sudah biasaaa https://t.co/eeeq0s9bal</td>\n",
       "    </tr>\n",
       "    <tr>\n",
       "      <th id=\"T_004de_level0_row1\" class=\"row_heading level0 row1\" >1</th>\n",
       "      <td id=\"T_004de_row1_col0\" class=\"data row1 col0\" >iki yo mbulett ae !dua_mata! https://t.co/t1hbxb07s7</td>\n",
       "    </tr>\n",
       "    <tr>\n",
       "      <th id=\"T_004de_level0_row2\" class=\"row_heading level0 row2\" >2</th>\n",
       "      <td id=\"T_004de_row2_col0\" class=\"data row2 col0\" >!jempol_ke_bawah!!jempol_ke_bawah! https://t.co/qqci5hkbft</td>\n",
       "    </tr>\n",
       "    <tr>\n",
       "      <th id=\"T_004de_level0_row3\" class=\"row_heading level0 row3\" >3</th>\n",
       "      <td id=\"T_004de_row3_col0\" class=\"data row3 col0\" >zeremmmmm https://t.co/vgu6ellzv6</td>\n",
       "    </tr>\n",
       "    <tr>\n",
       "      <th id=\"T_004de_level0_row4\" class=\"row_heading level0 row4\" >4</th>\n",
       "      <td id=\"T_004de_row4_col0\" class=\"data row4 col0\" >https://t.co/ilhttqrj1d</td>\n",
       "    </tr>\n",
       "  </tbody>\n",
       "</table>\n"
      ],
      "text/plain": [
       "<pandas.io.formats.style.Styler at 0x114523110>"
      ]
     },
     "execution_count": 9,
     "metadata": {},
     "output_type": "execute_result"
    }
   ],
   "source": [
    "data[\"content\"] = data[\"content\"].apply(lambda x: remove_html(str(x)))\n",
    "display_fullscreen_wrap(data.head())"
   ]
  },
  {
   "cell_type": "markdown",
   "id": "839180c9",
   "metadata": {},
   "source": [
    "### Remove URL"
   ]
  },
  {
   "cell_type": "code",
   "execution_count": 10,
   "id": "3de13ad8",
   "metadata": {},
   "outputs": [
    {
     "data": {
      "text/html": [
       "<style type=\"text/css\">\n",
       "#T_56119_row0_col0, #T_56119_row1_col0, #T_56119_row2_col0, #T_56119_row3_col0, #T_56119_row4_col0 {\n",
       "  white-space: pre-wrap;\n",
       "  word-break: break-word;\n",
       "  width: 900px;\n",
       "  max-width: 700px;\n",
       "}\n",
       "</style>\n",
       "<table id=\"T_56119\">\n",
       "  <thead>\n",
       "    <tr>\n",
       "      <th class=\"blank level0\" >&nbsp;</th>\n",
       "      <th id=\"T_56119_level0_col0\" class=\"col_heading level0 col0\" >content</th>\n",
       "    </tr>\n",
       "  </thead>\n",
       "  <tbody>\n",
       "    <tr>\n",
       "      <th id=\"T_56119_level0_row0\" class=\"row_heading level0 row0\" >0</th>\n",
       "      <td id=\"T_56119_row0_col0\" class=\"data row0 col0\" >sudah biasaaa</td>\n",
       "    </tr>\n",
       "    <tr>\n",
       "      <th id=\"T_56119_level0_row1\" class=\"row_heading level0 row1\" >1</th>\n",
       "      <td id=\"T_56119_row1_col0\" class=\"data row1 col0\" >iki yo mbulett ae !dua_mata!</td>\n",
       "    </tr>\n",
       "    <tr>\n",
       "      <th id=\"T_56119_level0_row2\" class=\"row_heading level0 row2\" >2</th>\n",
       "      <td id=\"T_56119_row2_col0\" class=\"data row2 col0\" >!jempol_ke_bawah!!jempol_ke_bawah!</td>\n",
       "    </tr>\n",
       "    <tr>\n",
       "      <th id=\"T_56119_level0_row3\" class=\"row_heading level0 row3\" >3</th>\n",
       "      <td id=\"T_56119_row3_col0\" class=\"data row3 col0\" >zeremmmmm</td>\n",
       "    </tr>\n",
       "    <tr>\n",
       "      <th id=\"T_56119_level0_row4\" class=\"row_heading level0 row4\" >4</th>\n",
       "      <td id=\"T_56119_row4_col0\" class=\"data row4 col0\" ></td>\n",
       "    </tr>\n",
       "  </tbody>\n",
       "</table>\n"
      ],
      "text/plain": [
       "<pandas.io.formats.style.Styler at 0x116f1f2c0>"
      ]
     },
     "execution_count": 10,
     "metadata": {},
     "output_type": "execute_result"
    }
   ],
   "source": [
    "data[\"content\"] = data[\"content\"].apply(lambda x: remove_url(str(x)))\n",
    "display_fullscreen_wrap(data.head())"
   ]
  },
  {
   "cell_type": "markdown",
   "id": "9a6824d2",
   "metadata": {},
   "source": [
    "### Replace Slang"
   ]
  },
  {
   "cell_type": "code",
   "execution_count": 11,
   "id": "b88eb8cb",
   "metadata": {},
   "outputs": [
    {
     "data": {
      "text/html": [
       "<style type=\"text/css\">\n",
       "#T_f5a92_row0_col0, #T_f5a92_row1_col0, #T_f5a92_row2_col0, #T_f5a92_row3_col0, #T_f5a92_row4_col0 {\n",
       "  white-space: pre-wrap;\n",
       "  word-break: break-word;\n",
       "  width: 900px;\n",
       "  max-width: 700px;\n",
       "}\n",
       "</style>\n",
       "<table id=\"T_f5a92\">\n",
       "  <thead>\n",
       "    <tr>\n",
       "      <th class=\"blank level0\" >&nbsp;</th>\n",
       "      <th id=\"T_f5a92_level0_col0\" class=\"col_heading level0 col0\" >content</th>\n",
       "    </tr>\n",
       "  </thead>\n",
       "  <tbody>\n",
       "    <tr>\n",
       "      <th id=\"T_f5a92_level0_row0\" class=\"row_heading level0 row0\" >0</th>\n",
       "      <td id=\"T_f5a92_row0_col0\" class=\"data row0 col0\" >sudah biasa</td>\n",
       "    </tr>\n",
       "    <tr>\n",
       "      <th id=\"T_f5a92_level0_row1\" class=\"row_heading level0 row1\" >1</th>\n",
       "      <td id=\"T_f5a92_row1_col0\" class=\"data row1 col0\" >iki ya mbulett saja !dua_mata!</td>\n",
       "    </tr>\n",
       "    <tr>\n",
       "      <th id=\"T_f5a92_level0_row2\" class=\"row_heading level0 row2\" >2</th>\n",
       "      <td id=\"T_f5a92_row2_col0\" class=\"data row2 col0\" >!jempol_ke_bawah!!jempol_ke_bawah!</td>\n",
       "    </tr>\n",
       "    <tr>\n",
       "      <th id=\"T_f5a92_level0_row3\" class=\"row_heading level0 row3\" >3</th>\n",
       "      <td id=\"T_f5a92_row3_col0\" class=\"data row3 col0\" >zeremmmmm</td>\n",
       "    </tr>\n",
       "    <tr>\n",
       "      <th id=\"T_f5a92_level0_row4\" class=\"row_heading level0 row4\" >4</th>\n",
       "      <td id=\"T_f5a92_row4_col0\" class=\"data row4 col0\" ></td>\n",
       "    </tr>\n",
       "  </tbody>\n",
       "</table>\n"
      ],
      "text/plain": [
       "<pandas.io.formats.style.Styler at 0x116953170>"
      ]
     },
     "execution_count": 11,
     "metadata": {},
     "output_type": "execute_result"
    }
   ],
   "source": [
    "data[\"content\"] = data[\"content\"].apply(lambda x: replace_slang(str(x)))\n",
    "display_fullscreen_wrap(data.head())"
   ]
  },
  {
   "cell_type": "markdown",
   "id": "2da0b117",
   "metadata": {},
   "source": [
    "### Replace Word Elongation"
   ]
  },
  {
   "cell_type": "code",
   "execution_count": 12,
   "id": "f7f898e4",
   "metadata": {},
   "outputs": [
    {
     "data": {
      "text/html": [
       "<style type=\"text/css\">\n",
       "#T_4ed9e_row0_col0, #T_4ed9e_row1_col0, #T_4ed9e_row2_col0, #T_4ed9e_row3_col0, #T_4ed9e_row4_col0 {\n",
       "  white-space: pre-wrap;\n",
       "  word-break: break-word;\n",
       "  width: 900px;\n",
       "  max-width: 700px;\n",
       "}\n",
       "</style>\n",
       "<table id=\"T_4ed9e\">\n",
       "  <thead>\n",
       "    <tr>\n",
       "      <th class=\"blank level0\" >&nbsp;</th>\n",
       "      <th id=\"T_4ed9e_level0_col0\" class=\"col_heading level0 col0\" >content</th>\n",
       "    </tr>\n",
       "  </thead>\n",
       "  <tbody>\n",
       "    <tr>\n",
       "      <th id=\"T_4ed9e_level0_row0\" class=\"row_heading level0 row0\" >0</th>\n",
       "      <td id=\"T_4ed9e_row0_col0\" class=\"data row0 col0\" >sudah biasa</td>\n",
       "    </tr>\n",
       "    <tr>\n",
       "      <th id=\"T_4ed9e_level0_row1\" class=\"row_heading level0 row1\" >1</th>\n",
       "      <td id=\"T_4ed9e_row1_col0\" class=\"data row1 col0\" >iki ya mbulet saja !dua_mata!</td>\n",
       "    </tr>\n",
       "    <tr>\n",
       "      <th id=\"T_4ed9e_level0_row2\" class=\"row_heading level0 row2\" >2</th>\n",
       "      <td id=\"T_4ed9e_row2_col0\" class=\"data row2 col0\" >!jempol_ke_bawah!!jempol_ke_bawah!</td>\n",
       "    </tr>\n",
       "    <tr>\n",
       "      <th id=\"T_4ed9e_level0_row3\" class=\"row_heading level0 row3\" >3</th>\n",
       "      <td id=\"T_4ed9e_row3_col0\" class=\"data row3 col0\" >zerem</td>\n",
       "    </tr>\n",
       "    <tr>\n",
       "      <th id=\"T_4ed9e_level0_row4\" class=\"row_heading level0 row4\" >4</th>\n",
       "      <td id=\"T_4ed9e_row4_col0\" class=\"data row4 col0\" ></td>\n",
       "    </tr>\n",
       "  </tbody>\n",
       "</table>\n"
      ],
      "text/plain": [
       "<pandas.io.formats.style.Styler at 0x114570ef0>"
      ]
     },
     "execution_count": 12,
     "metadata": {},
     "output_type": "execute_result"
    }
   ],
   "source": [
    "data[\"content\"] = data[\"content\"].apply(lambda x: replace_word_elongation(str(x)))\n",
    "display_fullscreen_wrap(data.head())"
   ]
  },
  {
   "cell_type": "markdown",
   "id": "7ddd7b6a",
   "metadata": {},
   "source": [
    "### Remove Unnecessary Char"
   ]
  },
  {
   "cell_type": "code",
   "execution_count": 13,
   "id": "a5a62019",
   "metadata": {},
   "outputs": [
    {
     "data": {
      "text/html": [
       "<style type=\"text/css\">\n",
       "#T_1b749_row0_col0, #T_1b749_row1_col0, #T_1b749_row2_col0, #T_1b749_row3_col0, #T_1b749_row4_col0 {\n",
       "  white-space: pre-wrap;\n",
       "  word-break: break-word;\n",
       "  width: 900px;\n",
       "  max-width: 700px;\n",
       "}\n",
       "</style>\n",
       "<table id=\"T_1b749\">\n",
       "  <thead>\n",
       "    <tr>\n",
       "      <th class=\"blank level0\" >&nbsp;</th>\n",
       "      <th id=\"T_1b749_level0_col0\" class=\"col_heading level0 col0\" >content</th>\n",
       "    </tr>\n",
       "  </thead>\n",
       "  <tbody>\n",
       "    <tr>\n",
       "      <th id=\"T_1b749_level0_row0\" class=\"row_heading level0 row0\" >0</th>\n",
       "      <td id=\"T_1b749_row0_col0\" class=\"data row0 col0\" >sudah biasa</td>\n",
       "    </tr>\n",
       "    <tr>\n",
       "      <th id=\"T_1b749_level0_row1\" class=\"row_heading level0 row1\" >1</th>\n",
       "      <td id=\"T_1b749_row1_col0\" class=\"data row1 col0\" >iki ya mbulet saja !dua_mata!</td>\n",
       "    </tr>\n",
       "    <tr>\n",
       "      <th id=\"T_1b749_level0_row2\" class=\"row_heading level0 row2\" >2</th>\n",
       "      <td id=\"T_1b749_row2_col0\" class=\"data row2 col0\" >!jempol_ke_bawah!!jempol_ke_bawah!</td>\n",
       "    </tr>\n",
       "    <tr>\n",
       "      <th id=\"T_1b749_level0_row3\" class=\"row_heading level0 row3\" >3</th>\n",
       "      <td id=\"T_1b749_row3_col0\" class=\"data row3 col0\" >zerem</td>\n",
       "    </tr>\n",
       "    <tr>\n",
       "      <th id=\"T_1b749_level0_row4\" class=\"row_heading level0 row4\" >4</th>\n",
       "      <td id=\"T_1b749_row4_col0\" class=\"data row4 col0\" ></td>\n",
       "    </tr>\n",
       "  </tbody>\n",
       "</table>\n"
      ],
      "text/plain": [
       "<pandas.io.formats.style.Styler at 0x114522ae0>"
      ]
     },
     "execution_count": 13,
     "metadata": {},
     "output_type": "execute_result"
    }
   ],
   "source": [
    "import re\n",
    "\n",
    "def remove_unnecessary_char(text):\n",
    "    text = re.sub('\\n',' ',text) # Remove every '\\n'\n",
    "    text = re.sub('rt',' ',text) # Remove every retweet symbol\n",
    "    text = re.sub('  +', ' ', text) # Remove extra spaces\n",
    "    return text\n",
    "\n",
    "data[\"content\"] = data[\"content\"].apply(lambda x: remove_unnecessary_char(str(x)))\n",
    "display_fullscreen_wrap(data.head())"
   ]
  },
  {
   "cell_type": "markdown",
   "id": "dcc0dd39",
   "metadata": {},
   "source": [
    "### Remove Unicode"
   ]
  },
  {
   "cell_type": "code",
   "execution_count": 14,
   "id": "b0af16d0",
   "metadata": {},
   "outputs": [
    {
     "data": {
      "text/html": [
       "<style type=\"text/css\">\n",
       "#T_f9fb1_row0_col0, #T_f9fb1_row1_col0, #T_f9fb1_row2_col0, #T_f9fb1_row3_col0, #T_f9fb1_row4_col0 {\n",
       "  white-space: pre-wrap;\n",
       "  word-break: break-word;\n",
       "  width: 900px;\n",
       "  max-width: 700px;\n",
       "}\n",
       "</style>\n",
       "<table id=\"T_f9fb1\">\n",
       "  <thead>\n",
       "    <tr>\n",
       "      <th class=\"blank level0\" >&nbsp;</th>\n",
       "      <th id=\"T_f9fb1_level0_col0\" class=\"col_heading level0 col0\" >content</th>\n",
       "    </tr>\n",
       "  </thead>\n",
       "  <tbody>\n",
       "    <tr>\n",
       "      <th id=\"T_f9fb1_level0_row0\" class=\"row_heading level0 row0\" >0</th>\n",
       "      <td id=\"T_f9fb1_row0_col0\" class=\"data row0 col0\" >sudah biasa</td>\n",
       "    </tr>\n",
       "    <tr>\n",
       "      <th id=\"T_f9fb1_level0_row1\" class=\"row_heading level0 row1\" >1</th>\n",
       "      <td id=\"T_f9fb1_row1_col0\" class=\"data row1 col0\" >iki ya mbulet saja</td>\n",
       "    </tr>\n",
       "    <tr>\n",
       "      <th id=\"T_f9fb1_level0_row2\" class=\"row_heading level0 row2\" >2</th>\n",
       "      <td id=\"T_f9fb1_row2_col0\" class=\"data row2 col0\" ></td>\n",
       "    </tr>\n",
       "    <tr>\n",
       "      <th id=\"T_f9fb1_level0_row3\" class=\"row_heading level0 row3\" >3</th>\n",
       "      <td id=\"T_f9fb1_row3_col0\" class=\"data row3 col0\" >zerem</td>\n",
       "    </tr>\n",
       "    <tr>\n",
       "      <th id=\"T_f9fb1_level0_row4\" class=\"row_heading level0 row4\" >4</th>\n",
       "      <td id=\"T_f9fb1_row4_col0\" class=\"data row4 col0\" ></td>\n",
       "    </tr>\n",
       "  </tbody>\n",
       "</table>\n"
      ],
      "text/plain": [
       "<pandas.io.formats.style.Styler at 0x124bfb500>"
      ]
     },
     "execution_count": 14,
     "metadata": {},
     "output_type": "execute_result"
    }
   ],
   "source": [
    "def remove_unicode(text):\n",
    "    # Mengkonversi ke ASCII dan menghapus karakter yang tidak bisa di-encode\n",
    "    text = text.encode(\"ascii\", \"ignore\").decode(\"ascii\")\n",
    "\n",
    "    # Regex untuk menghapus pola hex unicode (contoh: \\xf0\\x9f\\x98\\xad)\n",
    "    text = re.sub(r\"(\\\\x[a-fA-F0-9]{2})+\", \" \", text)\n",
    "\n",
    "    # Regex untuk menghapus entitas numerik (contoh: \\u1234)\n",
    "    text = re.sub(r\"(\\\\u[a-fA-F0-9]{4})+\", \" \", text)\n",
    "\n",
    "    # Menghapus emoji yang sudah dikonversi (yang diapit tanda seru)\n",
    "    text = re.sub(r\"![^!]*!\", \" \", text)\n",
    "\n",
    "    # Menghapus SEMUA jenis tanda kutip (termasuk yang khusus)\n",
    "    text = re.sub(r'[\"\\'`´]', \" \", text)\n",
    "\n",
    "    # Menghapus karakter khusus lainnya\n",
    "    text = re.sub(r\"[^\\w\\s]\", \" \", text)\n",
    "\n",
    "    # Menghapus angka (opsional)\n",
    "    text = re.sub(r\"\\d+\", \" \", text)\n",
    "\n",
    "    # Menghilangkan spasi berlebih\n",
    "    text = re.sub(r\"\\s+\", \" \", text).strip()\n",
    "\n",
    "    return text\n",
    "\n",
    "# Apply the updated function\n",
    "data[\"content\"] = data[\"content\"].apply(lambda x: remove_unicode(str(x)))\n",
    "display_fullscreen_wrap(data.head())"
   ]
  },
  {
   "cell_type": "markdown",
   "id": "423bfe8e",
   "metadata": {},
   "source": [
    "### Replace User Mentions"
   ]
  },
  {
   "cell_type": "code",
   "execution_count": 15,
   "id": "53adbb45",
   "metadata": {},
   "outputs": [
    {
     "data": {
      "text/html": [
       "<style type=\"text/css\">\n",
       "#T_30b5d_row0_col0, #T_30b5d_row1_col0, #T_30b5d_row2_col0, #T_30b5d_row3_col0, #T_30b5d_row4_col0 {\n",
       "  white-space: pre-wrap;\n",
       "  word-break: break-word;\n",
       "  width: 900px;\n",
       "  max-width: 700px;\n",
       "}\n",
       "</style>\n",
       "<table id=\"T_30b5d\">\n",
       "  <thead>\n",
       "    <tr>\n",
       "      <th class=\"blank level0\" >&nbsp;</th>\n",
       "      <th id=\"T_30b5d_level0_col0\" class=\"col_heading level0 col0\" >content</th>\n",
       "    </tr>\n",
       "  </thead>\n",
       "  <tbody>\n",
       "    <tr>\n",
       "      <th id=\"T_30b5d_level0_row0\" class=\"row_heading level0 row0\" >0</th>\n",
       "      <td id=\"T_30b5d_row0_col0\" class=\"data row0 col0\" >sudah biasa</td>\n",
       "    </tr>\n",
       "    <tr>\n",
       "      <th id=\"T_30b5d_level0_row1\" class=\"row_heading level0 row1\" >1</th>\n",
       "      <td id=\"T_30b5d_row1_col0\" class=\"data row1 col0\" >iki ya mbulet saja</td>\n",
       "    </tr>\n",
       "    <tr>\n",
       "      <th id=\"T_30b5d_level0_row2\" class=\"row_heading level0 row2\" >2</th>\n",
       "      <td id=\"T_30b5d_row2_col0\" class=\"data row2 col0\" ></td>\n",
       "    </tr>\n",
       "    <tr>\n",
       "      <th id=\"T_30b5d_level0_row3\" class=\"row_heading level0 row3\" >3</th>\n",
       "      <td id=\"T_30b5d_row3_col0\" class=\"data row3 col0\" >zerem</td>\n",
       "    </tr>\n",
       "    <tr>\n",
       "      <th id=\"T_30b5d_level0_row4\" class=\"row_heading level0 row4\" >4</th>\n",
       "      <td id=\"T_30b5d_row4_col0\" class=\"data row4 col0\" ></td>\n",
       "    </tr>\n",
       "  </tbody>\n",
       "</table>\n"
      ],
      "text/plain": [
       "<pandas.io.formats.style.Styler at 0x124cef980>"
      ]
     },
     "execution_count": 15,
     "metadata": {},
     "output_type": "execute_result"
    }
   ],
   "source": [
    "# Function to replace URLs and user mentions\n",
    "def replace_urls_and_mentions(text):\n",
    "    # # Replace URLs with HTTPURL\n",
    "    # text = re.sub(\n",
    "    #     r\"http[s]?://(?:[a-zA-Z]|[0-9]|[$-_@.&+]|[!*\\\\(\\\\),]|(?:%[0-9a-fA-F][0-9a-fA-F]))+\",\n",
    "    #     \"HTTPURL\",\n",
    "    #     text,\n",
    "    # )\n",
    "    # text = re.sub(\n",
    "    #     r\"www\\.(?:[a-zA-Z]|[0-9]|[$-_@.&+]|[!*\\\\(\\\\),]|(?:%[0-9a-fA-F][0-9a-fA-F]))+\",\n",
    "    #     \"HTTPURL\",\n",
    "    #     text,\n",
    "    # )\n",
    "\n",
    "    # Replace user mentions with @USER\n",
    "    text = re.sub(r\"@[A-Za-z0-9_]+\", \"@USER\", text)\n",
    "\n",
    "    return text\n",
    "\n",
    "# Apply URL and mention replacement\n",
    "data[\"content\"] = data[\"content\"].apply(lambda x: replace_urls_and_mentions(str(x)))\n",
    "display_fullscreen_wrap(data.head())"
   ]
  },
  {
   "cell_type": "markdown",
   "id": "cad1b643",
   "metadata": {},
   "source": [
    "### Check Duplicate Data that contain in the content column"
   ]
  },
  {
   "cell_type": "code",
   "execution_count": 16,
   "id": "f875ee4e",
   "metadata": {},
   "outputs": [
    {
     "data": {
      "text/plain": [
       "np.int64(6077)"
      ]
     },
     "execution_count": 16,
     "metadata": {},
     "output_type": "execute_result"
    }
   ],
   "source": [
    "data.duplicated().sum()"
   ]
  },
  {
   "cell_type": "code",
   "execution_count": 17,
   "id": "df4987ac",
   "metadata": {},
   "outputs": [],
   "source": [
    "data.drop_duplicates(inplace=True)"
   ]
  },
  {
   "cell_type": "markdown",
   "id": "cc19e612",
   "metadata": {},
   "source": [
    "### Check Missing Value"
   ]
  },
  {
   "cell_type": "code",
   "execution_count": 18,
   "id": "d7815bc9",
   "metadata": {},
   "outputs": [
    {
     "data": {
      "text/plain": [
       "content    0\n",
       "dtype: int64"
      ]
     },
     "execution_count": 18,
     "metadata": {},
     "output_type": "execute_result"
    }
   ],
   "source": [
    "# check missing value\n",
    "data.isnull().sum()"
   ]
  },
  {
   "cell_type": "code",
   "execution_count": null,
   "id": "6104a86f",
   "metadata": {},
   "outputs": [],
   "source": [
    "# Alternatif: proses dalam batch untuk efisiensi - HANYA 10 BARIS PERTAMA\n",
    "try:\n",
    "    from deep_translator import GoogleTranslator\n",
    "    import time\n",
    "\n",
    "    def translate_batch(texts, batch_size=10):\n",
    "        translator = GoogleTranslator(source=\"javanese\", target=\"id\")\n",
    "        translated = []\n",
    "\n",
    "        for i in range(0, len(texts), batch_size):\n",
    "            batch = texts[i : i + batch_size]\n",
    "            print(f\"Processing batch {i//batch_size + 1}...\")\n",
    "\n",
    "            for text in batch:\n",
    "                try:\n",
    "                    result = translator.translate(str(text))\n",
    "                    translated.append(result if result else str(text))\n",
    "                    time.sleep(0.2)\n",
    "                except:\n",
    "                    translated.append(str(text))\n",
    "\n",
    "        return translated\n",
    "\n",
    "    # Apply translation hanya untuk 10 baris pertama\n",
    "    translated_content = translate_batch(data.head(10)[\"content\"].tolist())\n",
    "\n",
    "    # Update data asli untuk 10 baris pertama\n",
    "    data.loc[data.index[:10], \"content\"] = translated_content\n",
    "\n",
    "    print(\"Translation completed for first 10 rows!\")\n",
    "    display_fullscreen_wrap(data.head(10))\n",
    "\n",
    "except Exception as e:\n",
    "    print(f\"Error: {e}\")"
   ]
  },
  {
   "cell_type": "code",
   "execution_count": null,
   "id": "584a5e51",
   "metadata": {},
   "outputs": [],
   "source": [
    "data.head(10)"
   ]
  },
  {
   "cell_type": "code",
   "execution_count": 19,
   "id": "63621a4f",
   "metadata": {},
   "outputs": [],
   "source": [
    "from deep_translator import GoogleTranslator"
   ]
  },
  {
   "cell_type": "code",
   "execution_count": 20,
   "id": "19cfd878",
   "metadata": {},
   "outputs": [
    {
     "name": "stdout",
     "output_type": "stream",
     "text": [
      "Supported languages: ['afrikaans', 'albanian', 'amharic', 'arabic', 'armenian', 'assamese', 'aymara', 'azerbaijani', 'bambara', 'basque', 'belarusian', 'bengali', 'bhojpuri', 'bosnian', 'bulgarian', 'catalan', 'cebuano', 'chichewa', 'chinese (simplified)', 'chinese (traditional)', 'corsican', 'croatian', 'czech', 'danish', 'dhivehi', 'dogri', 'dutch', 'english', 'esperanto', 'estonian', 'ewe', 'filipino', 'finnish', 'french', 'frisian', 'galician', 'georgian', 'german', 'greek', 'guarani', 'gujarati', 'haitian creole', 'hausa', 'hawaiian', 'hebrew', 'hindi', 'hmong', 'hungarian', 'icelandic', 'igbo', 'ilocano', 'indonesian', 'irish', 'italian', 'japanese', 'javanese', 'kannada', 'kazakh', 'khmer', 'kinyarwanda', 'konkani', 'korean', 'krio', 'kurdish (kurmanji)', 'kurdish (sorani)', 'kyrgyz', 'lao', 'latin', 'latvian', 'lingala', 'lithuanian', 'luganda', 'luxembourgish', 'macedonian', 'maithili', 'malagasy', 'malay', 'malayalam', 'maltese', 'maori', 'marathi', 'meiteilon (manipuri)', 'mizo', 'mongolian', 'myanmar', 'nepali', 'norwegian', 'odia (oriya)', 'oromo', 'pashto', 'persian', 'polish', 'portuguese', 'punjabi', 'quechua', 'romanian', 'russian', 'samoan', 'sanskrit', 'scots gaelic', 'sepedi', 'serbian', 'sesotho', 'shona', 'sindhi', 'sinhala', 'slovak', 'slovenian', 'somali', 'spanish', 'sundanese', 'swahili', 'swedish', 'tajik', 'tamil', 'tatar', 'telugu', 'thai', 'tigrinya', 'tsonga', 'turkish', 'turkmen', 'twi', 'ukrainian', 'urdu', 'uyghur', 'uzbek', 'vietnamese', 'welsh', 'xhosa', 'yiddish', 'yoruba', 'zulu']\n"
     ]
    }
   ],
   "source": [
    "langs_list = GoogleTranslator().get_supported_languages()\n",
    "print(\"Supported languages:\", langs_list)"
   ]
  },
  {
   "cell_type": "code",
   "execution_count": 22,
   "id": "fd05372b",
   "metadata": {},
   "outputs": [
    {
     "name": "stdout",
     "output_type": "stream",
     "text": [
      "Original text: iki ya mbulet saja\n",
      "Translated text: Ini hanya stront\n"
     ]
    }
   ],
   "source": [
    "text = \"iki ya mbulet saja\"\n",
    "my_translator = GoogleTranslator(source=\"javanese\", target=\"indonesian\")\n",
    "\n",
    "print(\"Original text:\", text)\n",
    "print (\"Translated text:\", my_translator.translate(text))"
   ]
  },
  {
   "cell_type": "code",
   "execution_count": null,
   "id": "931e223c",
   "metadata": {},
   "outputs": [],
   "source": [
    "# Save the cleaned data to a new CSV file\n",
    "data.to_csv(\"data/diy/cleaned_data.csv\", index=False)\n",
    "print(\"Data cleaned and saved to 'data/diy/cleaned_data.csv'\")"
   ]
  },
  {
   "cell_type": "code",
   "execution_count": null,
   "id": "a8e5474e",
   "metadata": {},
   "outputs": [],
   "source": []
  }
 ],
 "metadata": {
  "kernelspec": {
   "display_name": ".venv",
   "language": "python",
   "name": "python3"
  },
  "language_info": {
   "codemirror_mode": {
    "name": "ipython",
    "version": 3
   },
   "file_extension": ".py",
   "mimetype": "text/x-python",
   "name": "python",
   "nbconvert_exporter": "python",
   "pygments_lexer": "ipython3",
   "version": "3.12.6"
  }
 },
 "nbformat": 4,
 "nbformat_minor": 5
}
